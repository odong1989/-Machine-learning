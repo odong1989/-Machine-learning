{
 "cells": [
  {
   "cell_type": "markdown",
   "metadata": {},
   "source": [
    "## <font color=\"orange\">Numpy로 구현하는 다차원배열</font>\n",
    "\n",
    "- **Numpy**를 사용하면 다차원 배열을 효율적으로 다룰 수 있다.\n",
    "- `import numpy as np` 형태로 임포트해서 사용한다.\n",
    "#`(숫자1의 왼쪽):'백틱'이라고 읽는다.(바탕에 회색음영을 줄 수 있따.)\n"
   ]
  },
  {
   "cell_type": "code",
   "execution_count": 2,
   "metadata": {},
   "outputs": [],
   "source": [
    "import numpy as np"
   ]
  },
  {
   "cell_type": "code",
   "execution_count": 4,
   "metadata": {},
   "outputs": [
    {
     "name": "stdout",
     "output_type": "stream",
     "text": [
      "[[11, 12, 13], [21, 22, 23], [31, 32, 33]]\n",
      "[[11 12 13]\n",
      " [21 22 23]\n",
      " [31 32 33]]\n"
     ]
    }
   ],
   "source": [
    "nestedmlist=[[11,12,13],[21,22,23],[31,32,33]] #파이썬 리스트\n",
    "mathNdarray = np.array(nestedmlist)\n",
    "\n",
    "print(nestedmlist)\n",
    "print(mathNdarray)"
   ]
  },
  {
   "cell_type": "code",
   "execution_count": 5,
   "metadata": {},
   "outputs": [
    {
     "name": "stdout",
     "output_type": "stream",
     "text": [
      "[[12 13 14]\n",
      " [22 23 24]\n",
      " [32 33 34]]\n"
     ]
    }
   ],
   "source": [
    "# 각 원소에 1을 증가(BoroadCasting 기능)\n",
    "mathNdarray = mathNdarray + 1#오로지 numpy의 array에만 있는 기능.\n",
    "print(mathNdarray)"
   ]
  },
  {
   "cell_type": "markdown",
   "metadata": {},
   "source": [
    "### numpy에서 제공하는 수치계산용 메소드의 사용"
   ]
  },
  {
   "cell_type": "code",
   "execution_count": null,
   "metadata": {},
   "outputs": [],
   "source": []
  },
  {
   "cell_type": "code",
   "execution_count": 26,
   "metadata": {},
   "outputs": [
    {
     "name": "stdout",
     "output_type": "stream",
     "text": [
      "207\n",
      "축 0 합 :  [66 69 72]\n",
      "축 1 합 :  [39 69 99]\n"
     ]
    }
   ],
   "source": [
    "# ①전체 합 : np.sum(np형 array변수명)\n",
    "np.sum(mathNdarray)\n",
    "print(np.sum(mathNdarray))\n",
    "\n",
    "print(\"축 0 합 : \",np.sum(mathNdarray,axis=0)) # 축0=열(세로)\n",
    "print(\"축 1 합 : \",np.sum(mathNdarray,axis=1)) # 축1=행(가로)\n",
    "#[[12 13 14]\n",
    "# [22 23 24]\n",
    "# [32 33 34]]"
   ]
  },
  {
   "cell_type": "markdown",
   "metadata": {},
   "source": [
    "＃ ②전체평균 : np.mean(np형 array변수명)"
   ]
  },
  {
   "cell_type": "code",
   "execution_count": 27,
   "metadata": {},
   "outputs": [
    {
     "name": "stdout",
     "output_type": "stream",
     "text": [
      "23.0\n",
      "축 0 합 :  [22. 23. 24.]\n",
      "축 1 합 :  [13. 23. 33.]\n"
     ]
    }
   ],
   "source": [
    "# ②평균 : np.sum(np형 array변수명)\n",
    "print(np.mean(mathNdarray))\n",
    "\n",
    "print(\"축 0 평균 : \",np.mean(mathNdarray,axis=0)) # 축0=열(세로)\n",
    "print(\"축 1 평균 : \",np.mean(mathNdarray,axis=1)) # 축1=행(가로)\n",
    "#[[12 13 14]\n",
    "# [22 23 24]\n",
    "# [32 33 34]]"
   ]
  },
  {
   "cell_type": "code",
   "execution_count": 28,
   "metadata": {},
   "outputs": [
    {
     "name": "stdout",
     "output_type": "stream",
     "text": [
      "12\n",
      "축 0 평균 :  [12 13 14]\n",
      "축 1 평균 :  [12 22 32]\n"
     ]
    }
   ],
   "source": [
    "# ③최솟값 : np.amin(np형 array변수명)\n",
    "print(np.amin(mathNdarray))\n",
    "\n",
    "print(\"축 0 평균 : \",np.amin(mathNdarray,axis=0)) # 축0=열(세로)\n",
    "print(\"축 1 평균 : \",np.amin(mathNdarray,axis=1)) # 축1=행(가로)\n",
    "#[[12 13 14]\n",
    "# [22 23 24]\n",
    "# [32 33 34]]"
   ]
  },
  {
   "cell_type": "code",
   "execution_count": 29,
   "metadata": {},
   "outputs": [
    {
     "name": "stdout",
     "output_type": "stream",
     "text": [
      "34\n",
      "축 0 최댓값 :  [32 33 34]\n",
      "축 1 최댓값 :  [14 24 34]\n"
     ]
    }
   ],
   "source": [
    "# ④최댓값 : np.amax(np형 array변수명)\n",
    "print(np.amax(mathNdarray))\n",
    "\n",
    "print(\"축 0 최댓값 : \",np.amax(mathNdarray,axis=0)) # 축0=열(세로)\n",
    "print(\"축 1 최댓값 : \",np.amax(mathNdarray,axis=1)) # 축1=행(가로)\n",
    "#[[12 13 14]\n",
    "# [22 23 24]\n",
    "# [32 33 34]]"
   ]
  },
  {
   "cell_type": "code",
   "execution_count": 30,
   "metadata": {},
   "outputs": [
    {
     "name": "stdout",
     "output_type": "stream",
     "text": [
      "23.0\n",
      "축 0 중앙값 :  [22. 23. 24.]\n",
      "축 1 중앙값 :  [13. 23. 33.]\n"
     ]
    }
   ],
   "source": [
    "# ⑤중앙값 : np.median(np형 array변수명)\n",
    "print(np.median(mathNdarray))\n",
    "\n",
    "print(\"축 0 중앙값 : \",np.median(mathNdarray,axis=0)) # 축0=열(세로)\n",
    "print(\"축 1 중앙값 : \",np.median(mathNdarray,axis=1)) # 축1=행(가로)\n",
    "#[[12 13 14]\n",
    "# [22 23 24]\n",
    "# [32 33 34]]"
   ]
  },
  {
   "cell_type": "code",
   "execution_count": 31,
   "metadata": {},
   "outputs": [
    {
     "name": "stdout",
     "output_type": "stream",
     "text": [
      "67.33333333333333\n",
      "축 0 분산값 :  [66.66666667 66.66666667 66.66666667]\n",
      "축 1 분산값 :  [0.66666667 0.66666667 0.66666667]\n"
     ]
    }
   ],
   "source": [
    "# ⑥분산값 : np.var(np형 array변수명)\n",
    "print(np.var(mathNdarray))\n",
    "\n",
    "print(\"축 0 분산값 : \",np.var(mathNdarray,axis=0)) # 축0=열(세로)\n",
    "print(\"축 1 분산값 : \",np.var(mathNdarray,axis=1)) # 축1=행(가로)\n",
    "#[[12 13 14]\n",
    "# [22 23 24]\n",
    "# [32 33 34]]"
   ]
  },
  {
   "cell_type": "code",
   "execution_count": 32,
   "metadata": {},
   "outputs": [
    {
     "name": "stdout",
     "output_type": "stream",
     "text": [
      "8.205689083394114\n",
      "축 0 분산값 :  [8.16496581 8.16496581 8.16496581]\n",
      "축 1 분산값 :  [0.81649658 0.81649658 0.81649658]\n"
     ]
    }
   ],
   "source": [
    "# ⑧표준편차: np.std(np형 array변수명)\n",
    "print(np.std(mathNdarray))\n",
    "\n",
    "print(\"축 0 분산값 : \",np.std(mathNdarray,axis=0)) # 축0=열(세로)\n",
    "print(\"축 1 분산값 : \",np.std(mathNdarray,axis=1)) # 축1=행(가로)\n",
    "#[[12 13 14]\n",
    "# [22 23 24]\n",
    "# [32 33 34]]"
   ]
  },
  {
   "cell_type": "markdown",
   "metadata": {},
   "source": [
    "# ndarray 생성하는 여러가지 방법들"
   ]
  },
  {
   "cell_type": "code",
   "execution_count": 33,
   "metadata": {},
   "outputs": [],
   "source": [
    "import numpy as np"
   ]
  },
  {
   "cell_type": "code",
   "execution_count": 34,
   "metadata": {},
   "outputs": [
    {
     "name": "stdout",
     "output_type": "stream",
     "text": [
      "[1 2 3]\n"
     ]
    }
   ],
   "source": [
    "#1. list를 이용해서 만드는 방법\n",
    "a = np.array([1,2,3])\n",
    "print(a)"
   ]
  },
  {
   "cell_type": "code",
   "execution_count": 35,
   "metadata": {},
   "outputs": [
    {
     "name": "stdout",
     "output_type": "stream",
     "text": [
      "[ 1  2  3  4  5  6  7  8  9 10]\n",
      "[ 1.   1.5  2.   2.5  3.   3.5  4.   4.5  5.   5.5  6.   6.5  7.   7.5\n",
      "  8.   8.5  9.   9.5 10.  10.5]\n"
     ]
    }
   ],
   "source": [
    "#2. np.arange()\n",
    "#통계등에서는 많이 쓰이는 반면에 딥러닝에서는 잘 사용되지 않는 자료형.\n",
    "a = np.arange(1,11)\n",
    "print(a)\n",
    "a = np.arange(1, 11, 0.5)\n",
    "print(a)\n"
   ]
  },
  {
   "cell_type": "code",
   "execution_count": 37,
   "metadata": {},
   "outputs": [
    {
     "name": "stdout",
     "output_type": "stream",
     "text": [
      "[[0 0 0 0]\n",
      " [0 0 0 0]\n",
      " [0 0 0 0]]\n"
     ]
    }
   ],
   "source": [
    "#3. zeros, ones, full, identity사용하여 생성\n",
    "#배열을 만드는데 \n",
    "#zeros -> 전부 0으로 채움.\n",
    "#ones, \n",
    "#full, \n",
    "#identity\n",
    "#결론 : 1. 채우는 값은 같다.\n",
    "#      2.n행*m열 식으로 크기만 알려주면 된다.\n",
    "#      3. 필수적이라기보다는 알아두는 정도로.\n",
    "#3.1 zeros\n",
    "a = np.zeros((3,4),dtype=np.int16)\n",
    "print(a)"
   ]
  },
  {
   "cell_type": "code",
   "execution_count": 40,
   "metadata": {},
   "outputs": [
    {
     "name": "stdout",
     "output_type": "stream",
     "text": [
      "[[[1 1 1 1]\n",
      "  [1 1 1 1]\n",
      "  [1 1 1 1]]\n",
      "\n",
      " [[1 1 1 1]\n",
      "  [1 1 1 1]\n",
      "  [1 1 1 1]]]\n"
     ]
    }
   ],
   "source": [
    "#3.2 ones\n",
    "a = np.ones((2,3,4),dtype=np.int16)\n",
    "print(a)\n",
    "#np.ones(2,3,4)\n",
    "#np.ones(면,행,열)\n",
    "#[[[1 1 1 1]\n",
    "#  [1 1 1 1]\n",
    "#  [1 1 1 1]]\n",
    "\n",
    "# [[1 1 1 1]\n",
    "#  [1 1 1 1]\n",
    "#  [1 1 1 1]]]"
   ]
  },
  {
   "cell_type": "code",
   "execution_count": 42,
   "metadata": {},
   "outputs": [
    {
     "name": "stdout",
     "output_type": "stream",
     "text": [
      "[[7. 7. 7. 7. 7.]\n",
      " [7. 7. 7. 7. 7.]\n",
      " [7. 7. 7. 7. 7.]\n",
      " [7. 7. 7. 7. 7.]\n",
      " [7. 7. 7. 7. 7.]]\n"
     ]
    }
   ],
   "source": [
    "#3.3 full <-내가 원하는 숫자까지 지정할 수 있다.\n",
    "\n",
    "a=np.full((5,5),7,dtype=np.float32)\n",
    "print(a)\n"
   ]
  },
  {
   "cell_type": "code",
   "execution_count": 44,
   "metadata": {},
   "outputs": [
    {
     "name": "stdout",
     "output_type": "stream",
     "text": [
      "[[ 0.0000000e+00 -4.6566129e-10]\n",
      " [ 3.3315424e+08 -2.5249694e-29]\n",
      " [ 4.2038954e-45  0.0000000e+00]\n",
      " [ 0.0000000e+00  0.0000000e+00]]\n",
      "[[          0 -1342177280]\n",
      " [ 1302256702 -1879046150]\n",
      " [          3           0]\n",
      " [          0           0]]\n"
     ]
    }
   ],
   "source": [
    "#3.4 empty \n",
    "#[주의] empty는 0이 아니다. \n",
    "#empty=초기화않는다=쓰레기값이 들어간다. 라는 의미라고 생각하는게 맞다.\n",
    "#딱히 메리트가 없기에 사용이 거의않는다고 한다(#왜 만든거야...)\n",
    "a=np.empty((4,2),dtype=np.float32)\n",
    "print(a)\n",
    "\n",
    "a=np.empty((4,2),dtype=np.int32)\n",
    "print(a)\n"
   ]
  },
  {
   "cell_type": "code",
   "execution_count": 45,
   "metadata": {},
   "outputs": [
    {
     "name": "stdout",
     "output_type": "stream",
     "text": [
      "[[1 1]\n",
      " [1 1]\n",
      " [1 1]\n",
      " [1 1]]\n"
     ]
    }
   ],
   "source": [
    "b = np.ones_like(a) #배열 a의 크기를 따르겠다.(4행2열로 만든이유. 단, 넣는값은 1이다.)\n",
    "print(b)"
   ]
  },
  {
   "cell_type": "code",
   "execution_count": 47,
   "metadata": {},
   "outputs": [
    {
     "name": "stdout",
     "output_type": "stream",
     "text": [
      "[[1. 0. 0.]\n",
      " [0. 1. 0.]\n",
      " [0. 0. 1.]]\n"
     ]
    }
   ],
   "source": [
    "b=np.eye(3) #3*3의 단위행열을 만들겠다는 의미이다.\n",
    "print(b)"
   ]
  },
  {
   "cell_type": "code",
   "execution_count": 48,
   "metadata": {},
   "outputs": [
    {
     "name": "stdout",
     "output_type": "stream",
     "text": [
      "[[1. 0. 0. 0. 0.]\n",
      " [0. 1. 0. 0. 0.]\n",
      " [0. 0. 1. 0. 0.]\n",
      " [0. 0. 0. 1. 0.]\n",
      " [0. 0. 0. 0. 1.]]\n"
     ]
    }
   ],
   "source": [
    "b=np.eye(5) #5*5의 단위행열을 만들겠다는 의미이다.\n",
    "print(b)"
   ]
  },
  {
   "cell_type": "markdown",
   "metadata": {},
   "source": [
    "## Numpy dtype의 종류\n",
    "- bool(True,False)\n",
    "- int(int8,int16,int32,int64,int128)\n",
    "- unit"
   ]
  },
  {
   "cell_type": "code",
   "execution_count": null,
   "metadata": {},
   "outputs": [],
   "source": []
  },
  {
   "cell_type": "code",
   "execution_count": null,
   "metadata": {},
   "outputs": [],
   "source": []
  },
  {
   "cell_type": "code",
   "execution_count": null,
   "metadata": {},
   "outputs": [],
   "source": []
  },
  {
   "cell_type": "code",
   "execution_count": null,
   "metadata": {},
   "outputs": [],
   "source": []
  },
  {
   "cell_type": "code",
   "execution_count": null,
   "metadata": {},
   "outputs": [],
   "source": []
  },
  {
   "cell_type": "code",
   "execution_count": null,
   "metadata": {},
   "outputs": [],
   "source": []
  },
  {
   "cell_type": "code",
   "execution_count": null,
   "metadata": {},
   "outputs": [],
   "source": []
  },
  {
   "cell_type": "code",
   "execution_count": null,
   "metadata": {},
   "outputs": [],
   "source": []
  },
  {
   "cell_type": "code",
   "execution_count": null,
   "metadata": {},
   "outputs": [],
   "source": []
  }
 ],
 "metadata": {
  "kernelspec": {
   "display_name": "Python 3",
   "language": "python",
   "name": "python3"
  },
  "language_info": {
   "codemirror_mode": {
    "name": "ipython",
    "version": 3
   },
   "file_extension": ".py",
   "mimetype": "text/x-python",
   "name": "python",
   "nbconvert_exporter": "python",
   "pygments_lexer": "ipython3",
   "version": "3.7.6"
  }
 },
 "nbformat": 4,
 "nbformat_minor": 4
}
