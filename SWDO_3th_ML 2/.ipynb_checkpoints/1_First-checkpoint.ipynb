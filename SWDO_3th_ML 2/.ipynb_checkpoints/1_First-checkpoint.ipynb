{
 "cells": [
  {
   "cell_type": "markdown",
   "metadata": {},
   "source": [
    "## 주피터 노트북 사용\n",
    " - numpy를 사용 : 데이터 사이언스에서 사용하는 중요한 패키지<br>\n",
    " - numpy 다음에는 <b style=\"color:red\">Pandas </b>를 배워서 데이터 전처리 작업을 한다.\n",
    " - css,html 태그를 활용하여 글씨를 설정할 수 있습니다(물론 초급정도의 수정만되지만)\n",
    " - <img>태그와 이미지 주소 복사를 활용하면 일일이 사진을 갖고 오는 수고를 않아도 됩니다.\n",
    "\n",
    " #명령어 메모\n",
    " 셀의 색깔이 파랑색일때(즉, 셀을 선택한상태)\n",
    " \n",
    " a : 위쪽에 셀 추가\n",
    " b : 아래쪽에 셀 추가\n",
    " m : 주석문 추가\n",
    " dd : 셀삭제(주의사항 : 되돌리기 안된다. 주의!!!)\n",
    " \n",
    " \n",
    " #file-DownloadAs에서 다운로드 받을 수 있도록 확장자도 정할 수 있음\n",
    " "
   ]
  },
  {
   "cell_type": "markdown",
   "metadata": {},
   "source": [
    "<img src=\"https://t1.daumcdn.net/cfile/tistory/993270495B18DDE322\">"
   ]
  },
  {
   "cell_type": "code",
   "execution_count": 7,
   "metadata": {},
   "outputs": [],
   "source": [
    "import numpy"
   ]
  },
  {
   "cell_type": "code",
   "execution_count": null,
   "metadata": {},
   "outputs": [],
   "source": []
  }
 ],
 "metadata": {
  "kernelspec": {
   "display_name": "Python 3",
   "language": "python",
   "name": "python3"
  },
  "language_info": {
   "codemirror_mode": {
    "name": "ipython",
    "version": 3
   },
   "file_extension": ".py",
   "mimetype": "text/x-python",
   "name": "python",
   "nbconvert_exporter": "python",
   "pygments_lexer": "ipython3",
   "version": "3.7.6"
  }
 },
 "nbformat": 4,
 "nbformat_minor": 4
}
