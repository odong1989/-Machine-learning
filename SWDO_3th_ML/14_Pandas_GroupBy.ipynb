{
 "cells": [
  {
   "cell_type": "markdown",
   "metadata": {},
   "source": [
    "# Groupby\n",
    "- Pandas의Groupby = SQL의Group by "
   ]
  },
  {
   "cell_type": "code",
   "execution_count": 37,
   "metadata": {},
   "outputs": [],
   "source": [
    "import pandas as pd\n",
    "import numpy as np"
   ]
  },
  {
   "cell_type": "code",
   "execution_count": 38,
   "metadata": {},
   "outputs": [
    {
     "data": {
      "text/html": [
       "<div>\n",
       "<style scoped>\n",
       "    .dataframe tbody tr th:only-of-type {\n",
       "        vertical-align: middle;\n",
       "    }\n",
       "\n",
       "    .dataframe tbody tr th {\n",
       "        vertical-align: top;\n",
       "    }\n",
       "\n",
       "    .dataframe thead th {\n",
       "        text-align: right;\n",
       "    }\n",
       "</style>\n",
       "<table border=\"1\" class=\"dataframe\">\n",
       "  <thead>\n",
       "    <tr style=\"text-align: right;\">\n",
       "      <th></th>\n",
       "      <th>부서</th>\n",
       "      <th>순위</th>\n",
       "      <th>연도</th>\n",
       "      <th>매출액</th>\n",
       "    </tr>\n",
       "  </thead>\n",
       "  <tbody>\n",
       "    <tr>\n",
       "      <th>0</th>\n",
       "      <td>영업1팀</td>\n",
       "      <td>1</td>\n",
       "      <td>2014</td>\n",
       "      <td>876</td>\n",
       "    </tr>\n",
       "    <tr>\n",
       "      <th>1</th>\n",
       "      <td>영업1팀</td>\n",
       "      <td>2</td>\n",
       "      <td>2015</td>\n",
       "      <td>788</td>\n",
       "    </tr>\n",
       "    <tr>\n",
       "      <th>2</th>\n",
       "      <td>영업2팀</td>\n",
       "      <td>1</td>\n",
       "      <td>2014</td>\n",
       "      <td>900</td>\n",
       "    </tr>\n",
       "    <tr>\n",
       "      <th>3</th>\n",
       "      <td>해외영업팀</td>\n",
       "      <td>3</td>\n",
       "      <td>2017</td>\n",
       "      <td>789</td>\n",
       "    </tr>\n",
       "    <tr>\n",
       "      <th>4</th>\n",
       "      <td>해외영업팀</td>\n",
       "      <td>2</td>\n",
       "      <td>2017</td>\n",
       "      <td>657</td>\n",
       "    </tr>\n",
       "    <tr>\n",
       "      <th>5</th>\n",
       "      <td>영업1팀</td>\n",
       "      <td>1</td>\n",
       "      <td>2019</td>\n",
       "      <td>910</td>\n",
       "    </tr>\n",
       "    <tr>\n",
       "      <th>6</th>\n",
       "      <td>해외영업팀</td>\n",
       "      <td>1</td>\n",
       "      <td>2019</td>\n",
       "      <td>987</td>\n",
       "    </tr>\n",
       "    <tr>\n",
       "      <th>7</th>\n",
       "      <td>영업1팀</td>\n",
       "      <td>2</td>\n",
       "      <td>2020</td>\n",
       "      <td>760</td>\n",
       "    </tr>\n",
       "    <tr>\n",
       "      <th>8</th>\n",
       "      <td>해외영업팀</td>\n",
       "      <td>3</td>\n",
       "      <td>2020</td>\n",
       "      <td>670</td>\n",
       "    </tr>\n",
       "    <tr>\n",
       "      <th>9</th>\n",
       "      <td>영업2팀</td>\n",
       "      <td>1</td>\n",
       "      <td>2014</td>\n",
       "      <td>788</td>\n",
       "    </tr>\n",
       "    <tr>\n",
       "      <th>10</th>\n",
       "      <td>영업2팀</td>\n",
       "      <td>2</td>\n",
       "      <td>2015</td>\n",
       "      <td>980</td>\n",
       "    </tr>\n",
       "    <tr>\n",
       "      <th>11</th>\n",
       "      <td>해외영업팀</td>\n",
       "      <td>1</td>\n",
       "      <td>2015</td>\n",
       "      <td>877</td>\n",
       "    </tr>\n",
       "  </tbody>\n",
       "</table>\n",
       "</div>"
      ],
      "text/plain": [
       "       부서  순위    연도  매출액\n",
       "0    영업1팀   1  2014  876\n",
       "1    영업1팀   2  2015  788\n",
       "2    영업2팀   1  2014  900\n",
       "3   해외영업팀   3  2017  789\n",
       "4   해외영업팀   2  2017  657\n",
       "5    영업1팀   1  2019  910\n",
       "6   해외영업팀   1  2019  987\n",
       "7    영업1팀   2  2020  760\n",
       "8   해외영업팀   3  2020  670\n",
       "9    영업2팀   1  2014  788\n",
       "10   영업2팀   2  2015  980\n",
       "11  해외영업팀   1  2015  877"
      ]
     },
     "execution_count": 38,
     "metadata": {},
     "output_type": "execute_result"
    }
   ],
   "source": [
    "data = pd.DataFrame(\n",
    "    {\"부서\" : [\"영업1팀\",\"영업1팀\",\"영업2팀\",\"해외영업팀\",\"해외영업팀\",\"영업1팀\", \\\n",
    "             \"해외영업팀\",\"영업1팀\",\"해외영업팀\",\"영업2팀\",\"영업2팀\",\"해외영업팀\"],\n",
    "     \"순위\" : [1, 2, 1, 3, 2, 1,\\\n",
    "             1, 2, 3, 1, 2, 1],\n",
    "     \"연도\" : [2014, 2015, 2014, 2017, 2017, 2019, \\\n",
    "             2019, 2020, 2020, 2014, 2015, 2015],\n",
    "     \"매출액\": [876,788,900,789,657,910,\\\n",
    "             987,760,670,788,980,877]\n",
    "    })\n",
    "data"
   ]
  },
  {
   "cell_type": "code",
   "execution_count": 39,
   "metadata": {},
   "outputs": [
    {
     "data": {
      "text/plain": [
       "부서\n",
       "영업1팀     3334\n",
       "영업2팀     2668\n",
       "해외영업팀    3980\n",
       "Name: 매출액, dtype: int64"
      ]
     },
     "execution_count": 39,
     "metadata": {},
     "output_type": "execute_result"
    }
   ],
   "source": [
    "data.groupby(\"부서\")[\"매출액\"].sum() #결과는 시리즈 형으로 출력됩니다. #부서별 매출액을 보겠따 \n",
    "#[\"매출액\"] : 그룹바이 할때 무엇을 기준으로 할 것인가?\n",
    "# ()대분류 역할\n",
    "# [] 중분류 역할."
   ]
  },
  {
   "cell_type": "code",
   "execution_count": 40,
   "metadata": {},
   "outputs": [
    {
     "data": {
      "text/plain": [
       "연도\n",
       "2014    2564\n",
       "2015    2645\n",
       "2017    1446\n",
       "2019    1897\n",
       "2020    1430\n",
       "Name: 매출액, dtype: int64"
      ]
     },
     "execution_count": 40,
     "metadata": {},
     "output_type": "execute_result"
    }
   ],
   "source": [
    "data.groupby(\"연도\")[\"매출액\"].sum() #결과는 시리즈 형으로 출력됩니다. #연도별 매출액을 보겠다"
   ]
  },
  {
   "cell_type": "code",
   "execution_count": 44,
   "metadata": {},
   "outputs": [
    {
     "data": {
      "text/plain": [
       "부서     연도  \n",
       "영업1팀   2014     876\n",
       "       2015     788\n",
       "       2019     910\n",
       "       2020     760\n",
       "영업2팀   2014    1688\n",
       "       2015     980\n",
       "해외영업팀  2015     877\n",
       "       2017    1446\n",
       "       2019     987\n",
       "       2020     670\n",
       "Name: 매출액, dtype: int64"
      ]
     },
     "execution_count": 44,
     "metadata": {},
     "output_type": "execute_result"
    }
   ],
   "source": [
    "multi = data.groupby([\"부서\",\"연도\"])[\"매출액\"].sum() #각 부서별 년도의 매출액\n",
    "multi "
   ]
  },
  {
   "cell_type": "code",
   "execution_count": 45,
   "metadata": {},
   "outputs": [
    {
     "data": {
      "text/plain": [
       "MultiIndex([( '영업1팀', 2014),\n",
       "            ( '영업1팀', 2015),\n",
       "            ( '영업1팀', 2019),\n",
       "            ( '영업1팀', 2020),\n",
       "            ( '영업2팀', 2014),\n",
       "            ( '영업2팀', 2015),\n",
       "            ('해외영업팀', 2015),\n",
       "            ('해외영업팀', 2017),\n",
       "            ('해외영업팀', 2019),\n",
       "            ('해외영업팀', 2020)],\n",
       "           names=['부서', '연도'])"
      ]
     },
     "execution_count": 45,
     "metadata": {},
     "output_type": "execute_result"
    }
   ],
   "source": [
    "multi.index #리스트형, 또는 시리즈형태이다."
   ]
  },
  {
   "cell_type": "code",
   "execution_count": 46,
   "metadata": {},
   "outputs": [
    {
     "data": {
      "text/html": [
       "<div>\n",
       "<style scoped>\n",
       "    .dataframe tbody tr th:only-of-type {\n",
       "        vertical-align: middle;\n",
       "    }\n",
       "\n",
       "    .dataframe tbody tr th {\n",
       "        vertical-align: top;\n",
       "    }\n",
       "\n",
       "    .dataframe thead th {\n",
       "        text-align: right;\n",
       "    }\n",
       "</style>\n",
       "<table border=\"1\" class=\"dataframe\">\n",
       "  <thead>\n",
       "    <tr style=\"text-align: right;\">\n",
       "      <th>연도</th>\n",
       "      <th>2014</th>\n",
       "      <th>2015</th>\n",
       "      <th>2017</th>\n",
       "      <th>2019</th>\n",
       "      <th>2020</th>\n",
       "    </tr>\n",
       "    <tr>\n",
       "      <th>부서</th>\n",
       "      <th></th>\n",
       "      <th></th>\n",
       "      <th></th>\n",
       "      <th></th>\n",
       "      <th></th>\n",
       "    </tr>\n",
       "  </thead>\n",
       "  <tbody>\n",
       "    <tr>\n",
       "      <th>영업1팀</th>\n",
       "      <td>876.0</td>\n",
       "      <td>788.0</td>\n",
       "      <td>NaN</td>\n",
       "      <td>910.0</td>\n",
       "      <td>760.0</td>\n",
       "    </tr>\n",
       "    <tr>\n",
       "      <th>영업2팀</th>\n",
       "      <td>1688.0</td>\n",
       "      <td>980.0</td>\n",
       "      <td>NaN</td>\n",
       "      <td>NaN</td>\n",
       "      <td>NaN</td>\n",
       "    </tr>\n",
       "    <tr>\n",
       "      <th>해외영업팀</th>\n",
       "      <td>NaN</td>\n",
       "      <td>877.0</td>\n",
       "      <td>1446.0</td>\n",
       "      <td>987.0</td>\n",
       "      <td>670.0</td>\n",
       "    </tr>\n",
       "  </tbody>\n",
       "</table>\n",
       "</div>"
      ],
      "text/plain": [
       "연도       2014   2015    2017   2019   2020\n",
       "부서                                        \n",
       "영업1팀    876.0  788.0     NaN  910.0  760.0\n",
       "영업2팀   1688.0  980.0     NaN    NaN    NaN\n",
       "해외영업팀     NaN  877.0  1446.0  987.0  670.0"
      ]
     },
     "execution_count": 46,
     "metadata": {},
     "output_type": "execute_result"
    }
   ],
   "source": [
    "multi.unstack()\n",
    "# unstack() : 데이터 프레임형으로 바꾼다.\n",
    "#unstack()을 사용하면 NaN, 즉, 누락된 값을 확인하기 좋다."
   ]
  },
  {
   "cell_type": "code",
   "execution_count": 47,
   "metadata": {},
   "outputs": [
    {
     "data": {
      "text/plain": [
       "부서    연도  \n",
       "영업1팀  2014     876\n",
       "      2015     788\n",
       "      2019     910\n",
       "      2020     760\n",
       "영업2팀  2014    1688\n",
       "      2015     980\n",
       "Name: 매출액, dtype: int64"
      ]
     },
     "execution_count": 47,
     "metadata": {},
     "output_type": "execute_result"
    }
   ],
   "source": [
    "multi[\"영업1팀\" : \"영업2팀\"]"
   ]
  },
  {
   "cell_type": "code",
   "execution_count": 48,
   "metadata": {
    "scrolled": true
   },
   "outputs": [
    {
     "data": {
      "text/html": [
       "<div>\n",
       "<style scoped>\n",
       "    .dataframe tbody tr th:only-of-type {\n",
       "        vertical-align: middle;\n",
       "    }\n",
       "\n",
       "    .dataframe tbody tr th {\n",
       "        vertical-align: top;\n",
       "    }\n",
       "\n",
       "    .dataframe thead th {\n",
       "        text-align: right;\n",
       "    }\n",
       "</style>\n",
       "<table border=\"1\" class=\"dataframe\">\n",
       "  <thead>\n",
       "    <tr style=\"text-align: right;\">\n",
       "      <th>연도</th>\n",
       "      <th>2014</th>\n",
       "      <th>2015</th>\n",
       "      <th>2017</th>\n",
       "      <th>2019</th>\n",
       "      <th>2020</th>\n",
       "    </tr>\n",
       "    <tr>\n",
       "      <th>부서</th>\n",
       "      <th></th>\n",
       "      <th></th>\n",
       "      <th></th>\n",
       "      <th></th>\n",
       "      <th></th>\n",
       "    </tr>\n",
       "  </thead>\n",
       "  <tbody>\n",
       "    <tr>\n",
       "      <th>영업1팀</th>\n",
       "      <td>876.0</td>\n",
       "      <td>788.0</td>\n",
       "      <td>0.0</td>\n",
       "      <td>910.0</td>\n",
       "      <td>760.0</td>\n",
       "    </tr>\n",
       "    <tr>\n",
       "      <th>영업2팀</th>\n",
       "      <td>1688.0</td>\n",
       "      <td>980.0</td>\n",
       "      <td>0.0</td>\n",
       "      <td>0.0</td>\n",
       "      <td>0.0</td>\n",
       "    </tr>\n",
       "    <tr>\n",
       "      <th>해외영업팀</th>\n",
       "      <td>0.0</td>\n",
       "      <td>877.0</td>\n",
       "      <td>1446.0</td>\n",
       "      <td>987.0</td>\n",
       "      <td>670.0</td>\n",
       "    </tr>\n",
       "  </tbody>\n",
       "</table>\n",
       "</div>"
      ],
      "text/plain": [
       "연도       2014   2015    2017   2019   2020\n",
       "부서                                        \n",
       "영업1팀    876.0  788.0     0.0  910.0  760.0\n",
       "영업2팀   1688.0  980.0     0.0    0.0    0.0\n",
       "해외영업팀     0.0  877.0  1446.0  987.0  670.0"
      ]
     },
     "execution_count": 48,
     "metadata": {},
     "output_type": "execute_result"
    }
   ],
   "source": [
    "multi.unstack().fillna(0) #"
   ]
  },
  {
   "cell_type": "markdown",
   "metadata": {},
   "source": [
    "# Aggrigation(집계)\n",
    "- agg()라고 쓰면된다."
   ]
  },
  {
   "cell_type": "code",
   "execution_count": 51,
   "metadata": {},
   "outputs": [],
   "source": [
    "myGroup = data.groupby(\"부서\") #myGroup은 아직 출력할 데이터는 없음..."
   ]
  },
  {
   "cell_type": "code",
   "execution_count": 52,
   "metadata": {},
   "outputs": [
    {
     "name": "stdout",
     "output_type": "stream",
     "text": [
      "영업1팀\n",
      "영업2팀\n",
      "해외영업팀\n"
     ]
    }
   ],
   "source": [
    "for name, group in myGroup :\n",
    "    print(name)"
   ]
  },
  {
   "cell_type": "code",
   "execution_count": 54,
   "metadata": {},
   "outputs": [
    {
     "name": "stdout",
     "output_type": "stream",
     "text": [
      "     부서  순위    연도  매출액\n",
      "0  영업1팀   1  2014  876\n",
      "1  영업1팀   2  2015  788\n",
      "5  영업1팀   1  2019  910\n",
      "7  영업1팀   2  2020  760\n",
      "      부서  순위    연도  매출액\n",
      "2   영업2팀   1  2014  900\n",
      "9   영업2팀   1  2014  788\n",
      "10  영업2팀   2  2015  980\n",
      "       부서  순위    연도  매출액\n",
      "3   해외영업팀   3  2017  789\n",
      "4   해외영업팀   2  2017  657\n",
      "6   해외영업팀   1  2019  987\n",
      "8   해외영업팀   3  2020  670\n",
      "11  해외영업팀   1  2015  877\n"
     ]
    }
   ],
   "source": [
    "for name, group in myGroup :\n",
    "    print(group) #각팀 , 즉 영업1팀, 영업2팀, 해외영업팀별로 순위/연도/매출액을 출력"
   ]
  },
  {
   "cell_type": "code",
   "execution_count": 57,
   "metadata": {},
   "outputs": [
    {
     "data": {
      "text/plain": [
       "순위        2.0\n",
       "연도     2017.6\n",
       "매출액     796.0\n",
       "dtype: float64"
      ]
     },
     "execution_count": 57,
     "metadata": {},
     "output_type": "execute_result"
    }
   ],
   "source": [
    "group.agg(np.mean) #순위에대한 평균, 연도에대한 평균, 매출액에 대한 평균이 나온ㄷ."
   ]
  },
  {
   "cell_type": "code",
   "execution_count": 58,
   "metadata": {},
   "outputs": [
    {
     "data": {
      "text/html": [
       "<div>\n",
       "<style scoped>\n",
       "    .dataframe tbody tr th:only-of-type {\n",
       "        vertical-align: middle;\n",
       "    }\n",
       "\n",
       "    .dataframe tbody tr th {\n",
       "        vertical-align: top;\n",
       "    }\n",
       "\n",
       "    .dataframe thead th {\n",
       "        text-align: right;\n",
       "    }\n",
       "</style>\n",
       "<table border=\"1\" class=\"dataframe\">\n",
       "  <thead>\n",
       "    <tr style=\"text-align: right;\">\n",
       "      <th></th>\n",
       "      <th>순위</th>\n",
       "      <th>연도</th>\n",
       "      <th>매출액</th>\n",
       "    </tr>\n",
       "    <tr>\n",
       "      <th>부서</th>\n",
       "      <th></th>\n",
       "      <th></th>\n",
       "      <th></th>\n",
       "    </tr>\n",
       "  </thead>\n",
       "  <tbody>\n",
       "    <tr>\n",
       "      <th>영업1팀</th>\n",
       "      <td>1.500000</td>\n",
       "      <td>2017.000000</td>\n",
       "      <td>833.500000</td>\n",
       "    </tr>\n",
       "    <tr>\n",
       "      <th>영업2팀</th>\n",
       "      <td>1.333333</td>\n",
       "      <td>2014.333333</td>\n",
       "      <td>889.333333</td>\n",
       "    </tr>\n",
       "    <tr>\n",
       "      <th>해외영업팀</th>\n",
       "      <td>2.000000</td>\n",
       "      <td>2017.600000</td>\n",
       "      <td>796.000000</td>\n",
       "    </tr>\n",
       "  </tbody>\n",
       "</table>\n",
       "</div>"
      ],
      "text/plain": [
       "             순위           연도         매출액\n",
       "부서                                      \n",
       "영업1팀   1.500000  2017.000000  833.500000\n",
       "영업2팀   1.333333  2014.333333  889.333333\n",
       "해외영업팀  2.000000  2017.600000  796.000000"
      ]
     },
     "execution_count": 58,
     "metadata": {},
     "output_type": "execute_result"
    }
   ],
   "source": [
    "myGroup.agg(np.mean)#순위에대한 평균, 연도에대한 평균, 매출액에 대한 평균이 나온ㄷ."
   ]
  },
  {
   "cell_type": "code",
   "execution_count": 60,
   "metadata": {},
   "outputs": [
    {
     "data": {
      "text/html": [
       "<div>\n",
       "<style scoped>\n",
       "    .dataframe tbody tr th:only-of-type {\n",
       "        vertical-align: middle;\n",
       "    }\n",
       "\n",
       "    .dataframe tbody tr th {\n",
       "        vertical-align: top;\n",
       "    }\n",
       "\n",
       "    .dataframe thead th {\n",
       "        text-align: right;\n",
       "    }\n",
       "</style>\n",
       "<table border=\"1\" class=\"dataframe\">\n",
       "  <thead>\n",
       "    <tr style=\"text-align: right;\">\n",
       "      <th></th>\n",
       "      <th>sum</th>\n",
       "      <th>mean</th>\n",
       "      <th>amax</th>\n",
       "      <th>amin</th>\n",
       "    </tr>\n",
       "    <tr>\n",
       "      <th>부서</th>\n",
       "      <th></th>\n",
       "      <th></th>\n",
       "      <th></th>\n",
       "      <th></th>\n",
       "    </tr>\n",
       "  </thead>\n",
       "  <tbody>\n",
       "    <tr>\n",
       "      <th>영업1팀</th>\n",
       "      <td>3334</td>\n",
       "      <td>833.500000</td>\n",
       "      <td>910</td>\n",
       "      <td>760</td>\n",
       "    </tr>\n",
       "    <tr>\n",
       "      <th>영업2팀</th>\n",
       "      <td>2668</td>\n",
       "      <td>889.333333</td>\n",
       "      <td>980</td>\n",
       "      <td>788</td>\n",
       "    </tr>\n",
       "    <tr>\n",
       "      <th>해외영업팀</th>\n",
       "      <td>3980</td>\n",
       "      <td>796.000000</td>\n",
       "      <td>987</td>\n",
       "      <td>657</td>\n",
       "    </tr>\n",
       "  </tbody>\n",
       "</table>\n",
       "</div>"
      ],
      "text/plain": [
       "        sum        mean  amax  amin\n",
       "부서                                 \n",
       "영업1팀   3334  833.500000   910   760\n",
       "영업2팀   2668  889.333333   980   788\n",
       "해외영업팀  3980  796.000000   987   657"
      ]
     },
     "execution_count": 60,
     "metadata": {},
     "output_type": "execute_result"
    }
   ],
   "source": [
    "#각 팀 별 매출액에 대한 합계,평균,최대,최소까지 셋트로 나오게한다.\n",
    "#필요없는 순위에대한 평균, 연도에대한 평균은 안나오게.\n",
    "myGroup[\"매출액\"].agg([np.sum,np.mean,np.max,np.min])"
   ]
  },
  {
   "cell_type": "markdown",
   "metadata": {},
   "source": [
    "## filter()"
   ]
  },
  {
   "cell_type": "code",
   "execution_count": 69,
   "metadata": {},
   "outputs": [
    {
     "data": {
      "text/html": [
       "<div>\n",
       "<style scoped>\n",
       "    .dataframe tbody tr th:only-of-type {\n",
       "        vertical-align: middle;\n",
       "    }\n",
       "\n",
       "    .dataframe tbody tr th {\n",
       "        vertical-align: top;\n",
       "    }\n",
       "\n",
       "    .dataframe thead th {\n",
       "        text-align: right;\n",
       "    }\n",
       "</style>\n",
       "<table border=\"1\" class=\"dataframe\">\n",
       "  <thead>\n",
       "    <tr style=\"text-align: right;\">\n",
       "      <th></th>\n",
       "      <th>부서</th>\n",
       "      <th>순위</th>\n",
       "      <th>연도</th>\n",
       "      <th>매출액</th>\n",
       "    </tr>\n",
       "  </thead>\n",
       "  <tbody>\n",
       "    <tr>\n",
       "      <th>0</th>\n",
       "      <td>영업1팀</td>\n",
       "      <td>1</td>\n",
       "      <td>2014</td>\n",
       "      <td>876</td>\n",
       "    </tr>\n",
       "    <tr>\n",
       "      <th>1</th>\n",
       "      <td>영업1팀</td>\n",
       "      <td>2</td>\n",
       "      <td>2015</td>\n",
       "      <td>788</td>\n",
       "    </tr>\n",
       "    <tr>\n",
       "      <th>3</th>\n",
       "      <td>해외영업팀</td>\n",
       "      <td>3</td>\n",
       "      <td>2017</td>\n",
       "      <td>789</td>\n",
       "    </tr>\n",
       "    <tr>\n",
       "      <th>4</th>\n",
       "      <td>해외영업팀</td>\n",
       "      <td>2</td>\n",
       "      <td>2017</td>\n",
       "      <td>657</td>\n",
       "    </tr>\n",
       "    <tr>\n",
       "      <th>5</th>\n",
       "      <td>영업1팀</td>\n",
       "      <td>1</td>\n",
       "      <td>2019</td>\n",
       "      <td>910</td>\n",
       "    </tr>\n",
       "    <tr>\n",
       "      <th>6</th>\n",
       "      <td>해외영업팀</td>\n",
       "      <td>1</td>\n",
       "      <td>2019</td>\n",
       "      <td>987</td>\n",
       "    </tr>\n",
       "    <tr>\n",
       "      <th>7</th>\n",
       "      <td>영업1팀</td>\n",
       "      <td>2</td>\n",
       "      <td>2020</td>\n",
       "      <td>760</td>\n",
       "    </tr>\n",
       "    <tr>\n",
       "      <th>8</th>\n",
       "      <td>해외영업팀</td>\n",
       "      <td>3</td>\n",
       "      <td>2020</td>\n",
       "      <td>670</td>\n",
       "    </tr>\n",
       "    <tr>\n",
       "      <th>11</th>\n",
       "      <td>해외영업팀</td>\n",
       "      <td>1</td>\n",
       "      <td>2015</td>\n",
       "      <td>877</td>\n",
       "    </tr>\n",
       "  </tbody>\n",
       "</table>\n",
       "</div>"
      ],
      "text/plain": [
       "       부서  순위    연도  매출액\n",
       "0    영업1팀   1  2014  876\n",
       "1    영업1팀   2  2015  788\n",
       "3   해외영업팀   3  2017  789\n",
       "4   해외영업팀   2  2017  657\n",
       "5    영업1팀   1  2019  910\n",
       "6   해외영업팀   1  2019  987\n",
       "7    영업1팀   2  2020  760\n",
       "8   해외영업팀   3  2020  670\n",
       "11  해외영업팀   1  2015  877"
      ]
     },
     "execution_count": 69,
     "metadata": {},
     "output_type": "execute_result"
    }
   ],
   "source": [
    "data.groupby(\"부서\").filter(lambda x : len(x) > 3)#행의 개수가 3개 이상인 경우만 출력\n",
    "#filter()에게는 참/거짓을 출력할 수 있는 조건들을 넣는게 좋다.\n",
    "# 람다 함수를 활용하여 filter의 조건문을 정의하는 경우가 많다."
   ]
  },
  {
   "cell_type": "code",
   "execution_count": 73,
   "metadata": {},
   "outputs": [
    {
     "data": {
      "text/html": [
       "<div>\n",
       "<style scoped>\n",
       "    .dataframe tbody tr th:only-of-type {\n",
       "        vertical-align: middle;\n",
       "    }\n",
       "\n",
       "    .dataframe tbody tr th {\n",
       "        vertical-align: top;\n",
       "    }\n",
       "\n",
       "    .dataframe thead th {\n",
       "        text-align: right;\n",
       "    }\n",
       "</style>\n",
       "<table border=\"1\" class=\"dataframe\">\n",
       "  <thead>\n",
       "    <tr style=\"text-align: right;\">\n",
       "      <th></th>\n",
       "      <th>부서</th>\n",
       "      <th>순위</th>\n",
       "      <th>연도</th>\n",
       "      <th>매출액</th>\n",
       "    </tr>\n",
       "  </thead>\n",
       "  <tbody>\n",
       "    <tr>\n",
       "      <th>2</th>\n",
       "      <td>영업2팀</td>\n",
       "      <td>1</td>\n",
       "      <td>2014</td>\n",
       "      <td>900</td>\n",
       "    </tr>\n",
       "    <tr>\n",
       "      <th>9</th>\n",
       "      <td>영업2팀</td>\n",
       "      <td>1</td>\n",
       "      <td>2014</td>\n",
       "      <td>788</td>\n",
       "    </tr>\n",
       "    <tr>\n",
       "      <th>10</th>\n",
       "      <td>영업2팀</td>\n",
       "      <td>2</td>\n",
       "      <td>2015</td>\n",
       "      <td>980</td>\n",
       "    </tr>\n",
       "  </tbody>\n",
       "</table>\n",
       "</div>"
      ],
      "text/plain": [
       "      부서  순위    연도  매출액\n",
       "2   영업2팀   1  2014  900\n",
       "9   영업2팀   1  2014  788\n",
       "10  영업2팀   2  2015  980"
      ]
     },
     "execution_count": 73,
     "metadata": {},
     "output_type": "execute_result"
    }
   ],
   "source": [
    "data.groupby(\"부서\").filter(lambda x : x[\"매출액\"].mean() > 880)#부서별 매출액이 800이ㅅ"
   ]
  },
  {
   "cell_type": "code",
   "execution_count": null,
   "metadata": {},
   "outputs": [],
   "source": []
  },
  {
   "cell_type": "code",
   "execution_count": null,
   "metadata": {},
   "outputs": [],
   "source": []
  },
  {
   "cell_type": "code",
   "execution_count": null,
   "metadata": {},
   "outputs": [],
   "source": []
  },
  {
   "cell_type": "code",
   "execution_count": null,
   "metadata": {},
   "outputs": [],
   "source": []
  },
  {
   "cell_type": "code",
   "execution_count": null,
   "metadata": {},
   "outputs": [],
   "source": []
  },
  {
   "cell_type": "code",
   "execution_count": null,
   "metadata": {},
   "outputs": [],
   "source": []
  },
  {
   "cell_type": "code",
   "execution_count": null,
   "metadata": {},
   "outputs": [],
   "source": []
  },
  {
   "cell_type": "code",
   "execution_count": null,
   "metadata": {},
   "outputs": [],
   "source": []
  },
  {
   "cell_type": "code",
   "execution_count": null,
   "metadata": {},
   "outputs": [],
   "source": []
  },
  {
   "cell_type": "code",
   "execution_count": null,
   "metadata": {},
   "outputs": [],
   "source": []
  },
  {
   "cell_type": "code",
   "execution_count": null,
   "metadata": {},
   "outputs": [],
   "source": []
  },
  {
   "cell_type": "code",
   "execution_count": null,
   "metadata": {},
   "outputs": [],
   "source": []
  },
  {
   "cell_type": "code",
   "execution_count": null,
   "metadata": {},
   "outputs": [],
   "source": []
  }
 ],
 "metadata": {
  "kernelspec": {
   "display_name": "Python 3",
   "language": "python",
   "name": "python3"
  },
  "language_info": {
   "codemirror_mode": {
    "name": "ipython",
    "version": 3
   },
   "file_extension": ".py",
   "mimetype": "text/x-python",
   "name": "python",
   "nbconvert_exporter": "python",
   "pygments_lexer": "ipython3",
   "version": "3.7.6"
  }
 },
 "nbformat": 4,
 "nbformat_minor": 4
}
