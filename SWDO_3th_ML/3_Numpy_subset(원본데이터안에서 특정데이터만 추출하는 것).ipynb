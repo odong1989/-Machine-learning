{
 "cells": [
  {
   "cell_type": "markdown",
   "metadata": {},
   "source": [
    "# Numpy Indexing, slicing\n",
    "- ndarray로부터 특정 요소를 가져오는 방법"
   ]
  },
  {
   "cell_type": "code",
   "execution_count": 1,
   "metadata": {},
   "outputs": [],
   "source": [
    "import numpy as np"
   ]
  },
  {
   "cell_type": "code",
   "execution_count": 5,
   "metadata": {},
   "outputs": [
    {
     "name": "stdout",
     "output_type": "stream",
     "text": [
      "[[1, 2, 3, 4, 5], [6, 7, 8, 9, 10]]\n",
      "1\n"
     ]
    }
   ],
   "source": [
    "ary = [[1,2,3,4,5], [6,7,8,9,10]]\n",
    "print(ary)\n",
    "print(ary[0][0])"
   ]
  },
  {
   "cell_type": "code",
   "execution_count": 8,
   "metadata": {},
   "outputs": [
    {
     "name": "stdout",
     "output_type": "stream",
     "text": [
      "[[ 1  2  3  4  5]\n",
      " [ 6  7  8  9 10]]\n",
      "2\n"
     ]
    }
   ],
   "source": [
    "a = np.array(ary)\n",
    "print(a)\n",
    "print(a[0, 1]) #print(a[0][1])라고 해도 된다."
   ]
  },
  {
   "cell_type": "code",
   "execution_count": 10,
   "metadata": {},
   "outputs": [
    {
     "name": "stdout",
     "output_type": "stream",
     "text": [
      "[[12  2  3  4  5]\n",
      " [ 6  7  8  9 10]]\n",
      "[[55  2  3  4  5]\n",
      " [ 6  7  8  9 10]]\n"
     ]
    }
   ],
   "source": [
    "a[0,0] =12\n",
    "print(a)\n",
    "\n",
    "a[0, 0] = 55\n",
    "print(a)"
   ]
  },
  {
   "cell_type": "markdown",
   "metadata": {},
   "source": [
    "### Boolean Indexing\n",
    "- 배열의 요소들의 값을 하나하나 조사한다.\n",
    "- 특정 조건에 따라서 배열의 형태로 추출가능.\n",
    "- 참, 거짓으로 결과를 구분 + 참에 해당해당하는 "
   ]
  },
  {
   "cell_type": "code",
   "execution_count": 13,
   "metadata": {},
   "outputs": [],
   "source": [
    "import numpy as np"
   ]
  },
  {
   "cell_type": "code",
   "execution_count": 16,
   "metadata": {},
   "outputs": [
    {
     "name": "stdout",
     "output_type": "stream",
     "text": [
      "[[ 1  2  3  4  5  6]\n",
      " [ 7  8  9 10 11 12]\n",
      " [13 14 15 16 17 18]\n",
      " [19 20 21 22 23 24]]\n"
     ]
    }
   ],
   "source": [
    "a = np.arange(1,25).reshape(4,6)\n",
    "print(a)"
   ]
  },
  {
   "cell_type": "code",
   "execution_count": 21,
   "metadata": {},
   "outputs": [
    {
     "name": "stdout",
     "output_type": "stream",
     "text": [
      "[[False  True False  True False  True]\n",
      " [False  True False  True False  True]\n",
      " [False  True False  True False  True]\n",
      " [False  True False  True False  True]]\n"
     ]
    }
   ],
   "source": [
    "#짝수인지 홀수인지를 구별한다.\n",
    "even_ary = a % 2 == 0\n",
    "print(even_ary)"
   ]
  },
  {
   "cell_type": "code",
   "execution_count": 23,
   "metadata": {},
   "outputs": [
    {
     "name": "stdout",
     "output_type": "stream",
     "text": [
      "[ 2  4  6  8 10 12 14 16 18 20 22 24]\n"
     ]
    }
   ],
   "source": [
    "#중요!! 간단하지만 numpy만의 독특한 연산-제2탄 같은 거랄까?\n",
    "a= a[a%2 == 0] #각각의 요소들을 검사하여 짝수에 해당하는 값들만 저장한다.#이때 1차원배열로 재구성되게 된다.\n",
    "print(a)"
   ]
  },
  {
   "cell_type": "code",
   "execution_count": 24,
   "metadata": {},
   "outputs": [
    {
     "name": "stdout",
     "output_type": "stream",
     "text": [
      "[ 2  4  6  8 10 12 14 16 18 20 22 24]\n"
     ]
    }
   ],
   "source": [
    "a = np.arange(1,25).reshape(4,6)\n",
    "a = a[even_ary] \n",
    "print(a)"
   ]
  },
  {
   "cell_type": "code",
   "execution_count": 1,
   "metadata": {},
   "outputs": [],
   "source": [
    "# Comparison을 이용한 추출"
   ]
  },
  {
   "cell_type": "code",
   "execution_count": 2,
   "metadata": {},
   "outputs": [],
   "source": [
    "import numpy as np"
   ]
  },
  {
   "cell_type": "code",
   "execution_count": 14,
   "metadata": {},
   "outputs": [
    {
     "name": "stdout",
     "output_type": "stream",
     "text": [
      "[1. 4. 5. 2. 0. 3. 8. 9. 7. 6.]\n"
     ]
    }
   ],
   "source": [
    "a = np.array([1,4,5,2,0,3,8,9,7,6],float)\n",
    "print(a)"
   ]
  },
  {
   "cell_type": "code",
   "execution_count": 15,
   "metadata": {},
   "outputs": [
    {
     "name": "stdout",
     "output_type": "stream",
     "text": [
      "[False False  True False False False  True  True  True  True]\n",
      "[5. 8. 9. 7. 6.]\n"
     ]
    }
   ],
   "source": [
    "print(a>4) #각 요소들의 값들이 4보다 큰지 여부를 출력.(#이것도boolean indexing인셈.) \n",
    "print(a[a>4])#이렇게 해야 각 값들이 나온다,"
   ]
  },
  {
   "cell_type": "code",
   "execution_count": 16,
   "metadata": {},
   "outputs": [
    {
     "name": "stdout",
     "output_type": "stream",
     "text": [
      "[5. 8. 9. 7. 6.]\n"
     ]
    }
   ],
   "source": [
    "b=a[a>4]\n",
    "print(b)"
   ]
  },
  {
   "cell_type": "markdown",
   "metadata": {},
   "source": [
    "### Fancy indexing\n",
    "- 배열에 인덱스 배열을 전달해서 요소를 추출한다.\n",
    "- 인덱스 value를 이용하여 값을 출력한다."
   ]
  },
  {
   "cell_type": "code",
   "execution_count": 18,
   "metadata": {},
   "outputs": [],
   "source": [
    "import numpy as np"
   ]
  },
  {
   "cell_type": "code",
   "execution_count": 19,
   "metadata": {},
   "outputs": [
    {
     "name": "stdout",
     "output_type": "stream",
     "text": [
      "[[ 1  2  3  4  5  6]\n",
      " [ 7  8  9 10 11 12]\n",
      " [13 14 15 16 17 18]\n",
      " [19 20 21 22 23 24]]\n"
     ]
    }
   ],
   "source": [
    "a = np.arange(1,25).reshape((4,6))\n",
    "print(a)"
   ]
  },
  {
   "cell_type": "code",
   "execution_count": 24,
   "metadata": {},
   "outputs": [
    {
     "name": "stdout",
     "output_type": "stream",
     "text": [
      "1 8 15\n"
     ]
    }
   ],
   "source": [
    "print(a[0,0],a[1,1],a[2,2])"
   ]
  },
  {
   "cell_type": "code",
   "execution_count": 27,
   "metadata": {},
   "outputs": [
    {
     "name": "stdout",
     "output_type": "stream",
     "text": [
      "[1, 8, 15]\n"
     ]
    }
   ],
   "source": [
    "b = [ a[0,0], a[1,1], a[2,2]]\n",
    "print(b)"
   ]
  },
  {
   "cell_type": "code",
   "execution_count": 28,
   "metadata": {},
   "outputs": [
    {
     "name": "stdout",
     "output_type": "stream",
     "text": [
      "[[ 1  2  3  4  5  6]\n",
      " [ 7  8  9 10 11 12]\n",
      " [13 14 15 16 17 18]\n",
      " [19 20 21 22 23 24]]\n"
     ]
    }
   ],
   "source": [
    "print(a)"
   ]
  },
  {
   "cell_type": "code",
   "execution_count": 31,
   "metadata": {},
   "outputs": [
    {
     "name": "stdout",
     "output_type": "stream",
     "text": [
      "[0 0 1 1 0]\n",
      "[1 1 0 1 1]\n",
      "[2 2 7 8 2]\n"
     ]
    }
   ],
   "source": [
    "index1 = np.array([0,0,1,1,0])#행 역할\n",
    "print(index1)#행값만 알 수 있다.\n",
    "index2 = np.array([1,1,0,1,1])#열 역할\n",
    "print(index2)#열값만 알 수 있다.\n",
    "#(0,1)이 3개, (1,0)(#값7),(1,1)(#값8)이 1개씩 있다.\n",
    "print(a[index1,index2])"
   ]
  },
  {
   "cell_type": "code",
   "execution_count": 41,
   "metadata": {},
   "outputs": [
    {
     "name": "stdout",
     "output_type": "stream",
     "text": [
      "[[10. 11.]\n",
      " [12. 13.]]\n",
      "\n",
      "[12. 13.]\n",
      "10.0\n"
     ]
    }
   ],
   "source": [
    "d = np.array([[10,11], [12,13]], float)\n",
    "print(d)\n",
    "print()\n",
    "print(d[1])#1행의 데이터들이 통째로 다 나옴\n",
    "print(d[0,0])#행렬(0,0)의 값출력"
   ]
  },
  {
   "cell_type": "code",
   "execution_count": 44,
   "metadata": {},
   "outputs": [
    {
     "name": "stdout",
     "output_type": "stream",
     "text": [
      "[[10. 11.]\n",
      " [12. 13.]]\n",
      "\n",
      "[0 0 1 1 0]\n",
      "\n",
      "[[10. 11.]\n",
      " [10. 11.]\n",
      " [12. 13.]\n",
      " [12. 13.]\n",
      " [10. 11.]]\n",
      "[10. 10. 11. 11. 10.]\n"
     ]
    }
   ],
   "source": [
    "print(d)\n",
    "print()\n",
    "print(index1)\n",
    "print()\n",
    "\n",
    "print(d[index1]) #index1이 행을 추출하는 역할을 맡는다.\n",
    "#출력결과가 아래처럼 나오는데\n",
    "#[[10. 11.]\n",
    "# [10. 11.]\n",
    "# [12. 13.]\n",
    "# [12. 13.]\n",
    "# [10. 11.]]\n",
    "#이는 print(d[1])(#1행의 데이터들이 통째로 다 나옴)\n",
    ",print(d[2])과 같다. \n",
    "#0행의 index =[0 0 1 1 0] => \n",
    "#1행의 index =[0 0 1 1 0] =>\n",
    "\n",
    "# index1이 열의 역할을 수행하려면?\n",
    "print(d[0, index1]) #이렇게 해도 되긴 한데 조금은 아쉽다. 그래서 슬라이싱으로 확실하게 처리하게 된다."
   ]
  },
  {
   "cell_type": "markdown",
   "metadata": {},
   "source": [
    "## Slicing\n",
    "- ndarray에서 특정 요소를 추출하는 것.\n",
    "- 행과 열을 나눠서 추출가능\n",
    "- 매트릭스에서 부분집합을 추출할 때 매우 유용\n",
    "- 참고 : 1차원->array\n",
    "-       2차원->Matrix\n",
    "-       3차원이상->텐서(Tensir?)"
   ]
  },
  {
   "cell_type": "code",
   "execution_count": 45,
   "metadata": {},
   "outputs": [],
   "source": [
    "import numpy as np"
   ]
  },
  {
   "cell_type": "code",
   "execution_count": 46,
   "metadata": {},
   "outputs": [
    {
     "name": "stdout",
     "output_type": "stream",
     "text": [
      "[[ 1  2  3  4  5  6]\n",
      " [ 7  8  9 10 11 12]\n",
      " [13 14 15 16 17 18]\n",
      " [19 20 21 22 23 24]]\n"
     ]
    }
   ],
   "source": [
    "origin = np.arange(1,25).reshape(4,6)\n",
    "print(origin)"
   ]
  },
  {
   "cell_type": "code",
   "execution_count": 47,
   "metadata": {},
   "outputs": [
    {
     "name": "stdout",
     "output_type": "stream",
     "text": [
      "[[ 8  9 10 11]\n",
      " [14 15 16 17]]\n"
     ]
    }
   ],
   "source": [
    "print(origin[1:3,1:5])#[1:3->7~18번이 있는 1번2번행/ 1:5->세로로2~23까지인 열]"
   ]
  },
  {
   "cell_type": "code",
   "execution_count": 58,
   "metadata": {},
   "outputs": [
    {
     "name": "stdout",
     "output_type": "stream",
     "text": [
      "[[  8 999 999  11]\n",
      " [ 14 999 999  17]]\n"
     ]
    }
   ],
   "source": [
    "#음수 인덱스의 사용\n",
    "print(origin[1:-1, 1:-1])"
   ]
  },
  {
   "cell_type": "code",
   "execution_count": 59,
   "metadata": {},
   "outputs": [
    {
     "name": "stdout",
     "output_type": "stream",
     "text": [
      "[[  8 999 999  11]\n",
      " [ 14 999 999  17]]\n"
     ]
    }
   ],
   "source": [
    "target = origin[1:3, 1:5]\n",
    "print(target)"
   ]
  },
  {
   "cell_type": "code",
   "execution_count": 53,
   "metadata": {},
   "outputs": [
    {
     "name": "stdout",
     "output_type": "stream",
     "text": [
      "[[ 8  9 10 11]\n",
      " [14 15 16 17]]\n"
     ]
    }
   ],
   "source": [
    "#target에다가 값을 넣겠다.\n",
    "target[:, 1:3]\n",
    "print(target)"
   ]
  },
  {
   "cell_type": "code",
   "execution_count": 54,
   "metadata": {},
   "outputs": [
    {
     "name": "stdout",
     "output_type": "stream",
     "text": [
      "[[  8 999 999  11]\n",
      " [ 14 999 999  17]]\n"
     ]
    }
   ],
   "source": [
    "target[:, 1:3] = 999 #[:, 1:3]에 해당하는 칸들에게만 맞춰서 값을 넣는다.\n",
    "print(target)"
   ]
  },
  {
   "cell_type": "code",
   "execution_count": 55,
   "metadata": {},
   "outputs": [
    {
     "name": "stdout",
     "output_type": "stream",
     "text": [
      "[[  1   2   3   4   5   6]\n",
      " [  7   8 999 999  11  12]\n",
      " [ 13  14 999 999  17  18]\n",
      " [ 19  20  21  22  23  24]]\n"
     ]
    }
   ],
   "source": [
    "print(origin) #target은 origin데이터의 일부를 보여주는 일종의 창 역할 수행"
   ]
  },
  {
   "cell_type": "markdown",
   "metadata": {},
   "source": [
    "## 배열의 연산\n",
    "- 기본연산자를 재정의한다.\n",
    "- 이를 통해 직관적을 표현하게 된다."
   ]
  },
  {
   "cell_type": "code",
   "execution_count": 72,
   "metadata": {},
   "outputs": [],
   "source": [
    "#① +, add()\n",
    "#② -, subtract()\n",
    "#③ /, devide()\n",
    "#④ *, multiply()\n",
    "#⑤ exp()\n",
    "#⑥ sqrt()\n",
    "#⑦ sin()\n",
    "#⑧ cos()\n",
    "#⑨ tan()\n",
    "#⑩ log()"
   ]
  },
  {
   "cell_type": "code",
   "execution_count": 60,
   "metadata": {},
   "outputs": [],
   "source": [
    "import numpy as np"
   ]
  },
  {
   "cell_type": "code",
   "execution_count": 61,
   "metadata": {},
   "outputs": [
    {
     "name": "stdout",
     "output_type": "stream",
     "text": [
      "[[1 2 3]\n",
      " [4 5 6]]\n",
      "\n",
      "[[ 7  8]\n",
      " [ 9 10]\n",
      " [11 12]]\n"
     ]
    }
   ],
   "source": [
    "a = np.arange(1,7).reshape(2,3)\n",
    "b = np.arange(7,13).reshape(3,2)\n",
    "print(a)\n",
    "print()\n",
    "print(b)"
   ]
  },
  {
   "cell_type": "code",
   "execution_count": 62,
   "metadata": {},
   "outputs": [
    {
     "name": "stdout",
     "output_type": "stream",
     "text": [
      "[[ 58  64]\n",
      " [139 154]]\n"
     ]
    }
   ],
   "source": [
    "print(np.dot(a,b))"
   ]
  },
  {
   "cell_type": "code",
   "execution_count": 63,
   "metadata": {},
   "outputs": [
    {
     "name": "stdout",
     "output_type": "stream",
     "text": [
      "[[ 58  64]\n",
      " [139 154]]\n"
     ]
    }
   ],
   "source": [
    "print(a.dot(b))"
   ]
  },
  {
   "cell_type": "code",
   "execution_count": 65,
   "metadata": {},
   "outputs": [
    {
     "name": "stdout",
     "output_type": "stream",
     "text": [
      "[[4 5 4]\n",
      " [6 9 7]]\n"
     ]
    }
   ],
   "source": [
    "c= np.random.randint(1,10,(2,3))#1이상 10미만의 정수랜덤출력한다 2행3열으로\n",
    "print(c)"
   ]
  },
  {
   "cell_type": "code",
   "execution_count": 66,
   "metadata": {},
   "outputs": [
    {
     "name": "stdout",
     "output_type": "stream",
     "text": [
      "[[4 6]\n",
      " [5 9]\n",
      " [4 7]]\n"
     ]
    }
   ],
   "source": [
    "print(c.T) # 대문자T는 전치행렬로 기존행렬을 뒤집는다."
   ]
  },
  {
   "cell_type": "code",
   "execution_count": 67,
   "metadata": {},
   "outputs": [
    {
     "name": "stdout",
     "output_type": "stream",
     "text": [
      "[[1 2 3]\n",
      " [4 5 6]\n",
      " [7 8 9]]\n",
      "[[9 8 7]\n",
      " [6 5 4]\n",
      " [3 2 1]]\n"
     ]
    }
   ],
   "source": [
    "#\n",
    "a = np.arange(1,10).reshape(3,3)\n",
    "b = np.arange(9,0,-1).reshape(3,3)\n",
    "print(a)\n",
    "print(b)"
   ]
  },
  {
   "cell_type": "code",
   "execution_count": 69,
   "metadata": {},
   "outputs": [
    {
     "data": {
      "text/plain": [
       "array([[False, False, False],\n",
       "       [False, False,  True],\n",
       "       [ True,  True,  True]])"
      ]
     },
     "execution_count": 69,
     "metadata": {},
     "output_type": "execute_result"
    }
   ],
   "source": [
    "a > b #각각의 요소들을 일일이 낱개로 비교한다."
   ]
  },
  {
   "cell_type": "code",
   "execution_count": 70,
   "metadata": {},
   "outputs": [
    {
     "data": {
      "text/plain": [
       "array([[ True,  True,  True],\n",
       "       [ True, False, False],\n",
       "       [False, False, False]])"
      ]
     },
     "execution_count": 70,
     "metadata": {},
     "output_type": "execute_result"
    }
   ],
   "source": [
    "a < b #각각의 요소들을 일일이 낱개로 비교한다."
   ]
  },
  {
   "cell_type": "code",
   "execution_count": 71,
   "metadata": {},
   "outputs": [
    {
     "data": {
      "text/plain": [
       "array([[False, False, False],\n",
       "       [False,  True, False],\n",
       "       [False, False, False]])"
      ]
     },
     "execution_count": 71,
     "metadata": {},
     "output_type": "execute_result"
    }
   ],
   "source": [
    "a == b #각각의 요소들을 일일이 낱개로 비교한다."
   ]
  },
  {
   "cell_type": "code",
   "execution_count": 73,
   "metadata": {},
   "outputs": [
    {
     "data": {
      "text/plain": [
       "True"
      ]
     },
     "execution_count": 73,
     "metadata": {},
     "output_type": "execute_result"
    }
   ],
   "source": [
    "np.array_equal(a,a)"
   ]
  },
  {
   "cell_type": "code",
   "execution_count": 76,
   "metadata": {},
   "outputs": [
    {
     "data": {
      "text/plain": [
       "False"
      ]
     },
     "execution_count": 76,
     "metadata": {},
     "output_type": "execute_result"
    }
   ],
   "source": [
    "np.array_equal(a,b)"
   ]
  },
  {
   "cell_type": "markdown",
   "metadata": {},
   "source": [
    "### aggregation"
   ]
  },
  {
   "cell_type": "code",
   "execution_count": 80,
   "metadata": {},
   "outputs": [],
   "source": [
    "# sum()\n",
    "# min()\n",
    "# max()\n",
    "# mean()\n",
    "# argmax(),argmin()"
   ]
  },
  {
   "cell_type": "code",
   "execution_count": 81,
   "metadata": {},
   "outputs": [],
   "source": [
    "import numpy as np"
   ]
  },
  {
   "cell_type": "code",
   "execution_count": 83,
   "metadata": {},
   "outputs": [
    {
     "name": "stdout",
     "output_type": "stream",
     "text": [
      "[ 1  2  3  4  5  6  7  8  9 10 11 12 13 14 15 16 17 18 19 20]\n"
     ]
    }
   ],
   "source": [
    "a = np.arange(1,21)\n",
    "print(a)"
   ]
  },
  {
   "cell_type": "code",
   "execution_count": 85,
   "metadata": {},
   "outputs": [
    {
     "name": "stdout",
     "output_type": "stream",
     "text": [
      "[18 14 16 13  6  5 19 15 12 17  7 10  2  1 11  8  3  4 20  9]\n"
     ]
    }
   ],
   "source": [
    "np.random.shuffle(a)#원본 데이터를 마구 휘저어 랜덤화 시킨다.\n",
    "print(a)"
   ]
  },
  {
   "cell_type": "code",
   "execution_count": 87,
   "metadata": {},
   "outputs": [
    {
     "name": "stdout",
     "output_type": "stream",
     "text": [
      "[[18 14 16 13  6]\n",
      " [ 5 19 15 12 17]\n",
      " [ 7 10  2  1 11]\n",
      " [ 8  3  4 20  9]]\n"
     ]
    }
   ],
   "source": [
    "a = a.reshape(4,5)\n",
    "print(a)"
   ]
  },
  {
   "cell_type": "code",
   "execution_count": 88,
   "metadata": {},
   "outputs": [
    {
     "data": {
      "text/plain": [
       "18"
      ]
     },
     "execution_count": 88,
     "metadata": {},
     "output_type": "execute_result"
    }
   ],
   "source": [
    "np.argmax(a) #전체중에서 가장 큰 값이 배치된 위치를 표시한다. 0,1,2,3... 순으로 위치를 카운트한다"
   ]
  },
  {
   "cell_type": "code",
   "execution_count": 89,
   "metadata": {},
   "outputs": [
    {
     "data": {
      "text/plain": [
       "array([0, 1, 0, 3, 1])"
      ]
     },
     "execution_count": 89,
     "metadata": {},
     "output_type": "execute_result"
    }
   ],
   "source": [
    "np.argmax(a, axis=0) #각 y축들에서 가장 큰 값들이 위치하는 x행의 위치값을 출력한다. #\"axis=0\"은 y축을 기준으로 한다는 의미. "
   ]
  },
  {
   "cell_type": "code",
   "execution_count": 90,
   "metadata": {},
   "outputs": [
    {
     "data": {
      "text/plain": [
       "array([0, 1, 4, 3])"
      ]
     },
     "execution_count": 90,
     "metadata": {},
     "output_type": "execute_result"
    }
   ],
   "source": [
    "np.argmax(a, axis=1) #각 x축들에서 가장 큰 값들이 위치하는 y열의 위치값을 출력한다. #\"axis=1\"은 x축을 기준으로 한다는 의미. "
   ]
  },
  {
   "cell_type": "code",
   "execution_count": null,
   "metadata": {},
   "outputs": [],
   "source": []
  }
 ],
 "metadata": {
  "kernelspec": {
   "display_name": "Python 3",
   "language": "python",
   "name": "python3"
  },
  "language_info": {
   "codemirror_mode": {
    "name": "ipython",
    "version": 3
   },
   "file_extension": ".py",
   "mimetype": "text/x-python",
   "name": "python",
   "nbconvert_exporter": "python",
   "pygments_lexer": "ipython3",
   "version": "3.7.6"
  }
 },
 "nbformat": 4,
 "nbformat_minor": 4
}
