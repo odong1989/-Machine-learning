{
 "cells": [
  {
   "cell_type": "markdown",
   "metadata": {},
   "source": [
    "## 주피터 노트북 사용\n",
    " - numpy를 사용 : 데이터 사이언스에서 사용하는 중요한 패키지<br>\n",
    " - numpy 다음에는 <b style=\"color:red\">Pandas </b>를 배워서 데이터 전처리 작업을 한다.\n",
    " - css,html 태그를 활용하여 글씨를 설정할 수 있습니다(물론 초급정도의 수정만되지만)\n",
    " - <img>태그와 이미지 주소 복사를 활용하면 일일이 사진을 갖고 오는 수고를 않아도 됩니다.\n",
    "\n",
    " #명령어 메모\n",
    " 셀의 색깔이 파랑색일때(즉, 셀을 선택한상태)\n",
    " \n",
    " a : 위쪽에 셀 추가\n",
    " b : 아래쪽에 셀 추가\n",
    " m : 주석문 추가\n",
    " dd : 셀삭제(주의사항 : 되돌리기 안된다. 주의!!!)\n",
    " \n",
    " \n",
    " #file-DownloadAs에서 다운로드 받을 수 있도록 확장자도 정할 수 있음\n",
    " "
   ]
  },
  {
   "cell_type": "markdown",
   "metadata": {},
   "source": [
    "<img src=\"https://t1.daumcdn.net/cfile/tistory/993270495B18DDE322\">"
   ]
  },
  {
   "cell_type": "code",
   "execution_count": 8,
   "metadata": {},
   "outputs": [],
   "source": [
    "import numpy as np"
   ]
  },
  {
   "cell_type": "markdown",
   "metadata": {},
   "source": [
    "# 1. 숫자 자료 처리하기"
   ]
  },
  {
   "cell_type": "code",
   "execution_count": 10,
   "metadata": {},
   "outputs": [],
   "source": [
    "math1 = 89\n",
    "math2 = 95\n",
    "math3 = 75"
   ]
  },
  {
   "cell_type": "code",
   "execution_count": 19,
   "metadata": {},
   "outputs": [],
   "source": [
    "m_sum = math1+math2+math3\n",
    "m_avg = m_sum/3 \n",
    "#sum이라고 하면 안됩니다. 예약어처럼 누군가 이미 쓰고 있기에 문제 발생."
   ]
  },
  {
   "cell_type": "code",
   "execution_count": 20,
   "metadata": {},
   "outputs": [
    {
     "name": "stdout",
     "output_type": "stream",
     "text": [
      "수학점수의 합계 : 259\n",
      "수학점수의 평균 : 86.33333333333333\n"
     ]
    }
   ],
   "source": [
    "print(\"수학점수의 합계 : {}\".format(m_sum))\n",
    "print(\"수학점수의 평균 : {}\".format(m_avg))"
   ]
  },
  {
   "cell_type": "code",
   "execution_count": 21,
   "metadata": {},
   "outputs": [],
   "source": [
    "math4=88"
   ]
  },
  {
   "cell_type": "code",
   "execution_count": 22,
   "metadata": {},
   "outputs": [],
   "source": [
    "m_sum = math1+math2+math3+math4\n",
    "m_avg = m_sum/4\n",
    "#sum이라고 하면 안됩니다. 예약어처럼 누군가 이미 쓰고 있기에 문제 발생."
   ]
  },
  {
   "cell_type": "code",
   "execution_count": 23,
   "metadata": {},
   "outputs": [
    {
     "name": "stdout",
     "output_type": "stream",
     "text": [
      "수학점수의 합계 : 347\n",
      "수학점수의 평균 : 86.75\n"
     ]
    }
   ],
   "source": [
    "print(\"수학점수의 합계 : {}\".format(m_sum))\n",
    "print(\"수학점수의 평균 : {}\".format(m_avg))"
   ]
  },
  {
   "cell_type": "markdown",
   "metadata": {},
   "source": [
    "2.리스트 자료형으로 처리"
   ]
  },
  {
   "cell_type": "code",
   "execution_count": 24,
   "metadata": {},
   "outputs": [
    {
     "name": "stdout",
     "output_type": "stream",
     "text": [
      "[89, 95, 73]\n"
     ]
    }
   ],
   "source": [
    "mlist =[89,95,73]\n",
    "print(mlist)"
   ]
  },
  {
   "cell_type": "code",
   "execution_count": 32,
   "metadata": {},
   "outputs": [],
   "source": [
    "m_sum1 =0\n",
    "m_avg1 =0"
   ]
  },
  {
   "cell_type": "code",
   "execution_count": 33,
   "metadata": {},
   "outputs": [
    {
     "name": "stdout",
     "output_type": "stream",
     "text": [
      "수학점수의 합계 : 257\n",
      "수학점수의 평균 : 85.66666666666667\n"
     ]
    }
   ],
   "source": [
    "#for문을 이용하여 합계 평균 구하기\n",
    "for e in mlist :\n",
    "    m_sum1 += e\n",
    "m_avg = m_sum1/len(mlist)\n",
    "print(\"수학점수의 합계 : {}\".format(m_sum1))\n",
    "print(\"수학점수의 평균 : {}\".format(m_avg))"
   ]
  },
  {
   "cell_type": "code",
   "execution_count": 34,
   "metadata": {},
   "outputs": [
    {
     "name": "stdout",
     "output_type": "stream",
     "text": [
      "[89, 95, 73, 87]\n"
     ]
    }
   ],
   "source": [
    "mlist.append(87)\n",
    "print(mlist)"
   ]
  },
  {
   "cell_type": "code",
   "execution_count": 36,
   "metadata": {},
   "outputs": [],
   "source": [
    "m_sum1 =0\n",
    "m_avg1 =0\n",
    "#초기화해야 제대로 나오니까"
   ]
  },
  {
   "cell_type": "code",
   "execution_count": 37,
   "metadata": {},
   "outputs": [
    {
     "name": "stdout",
     "output_type": "stream",
     "text": [
      "수학점수의 합계 : 344\n",
      "수학점수의 평균 : 86.0\n"
     ]
    }
   ],
   "source": [
    "#for문을 이용하여 합계 평균 구하기\n",
    "for e in mlist :\n",
    "    m_sum1 += e\n",
    "m_avg = m_sum1/len(mlist)\n",
    "print(\"수학점수의 합계 : {}\".format(m_sum1))\n",
    "print(\"수학점수의 평균 : {}\".format(m_avg))"
   ]
  },
  {
   "cell_type": "code",
   "execution_count": null,
   "metadata": {},
   "outputs": [],
   "source": []
  }
 ],
 "metadata": {
  "kernelspec": {
   "display_name": "Python 3",
   "language": "python",
   "name": "python3"
  },
  "language_info": {
   "codemirror_mode": {
    "name": "ipython",
    "version": 3
   },
   "file_extension": ".py",
   "mimetype": "text/x-python",
   "name": "python",
   "nbconvert_exporter": "python",
   "pygments_lexer": "ipython3",
   "version": "3.7.6"
  }
 },
 "nbformat": 4,
 "nbformat_minor": 4
}
