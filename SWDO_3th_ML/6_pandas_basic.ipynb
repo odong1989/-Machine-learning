{
 "cells": [
  {
   "cell_type": "markdown",
   "metadata": {},
   "source": [
    "# Pandas 개요\n",
    "- Structured(구조화)된 데이터의 처리를 지원하는 파이선 라이브러리\n",
    "- Numpy와 결합하여 스프레드시트를 처리하는 기능을 제공.\n",
    "- indexing, 연산함수, 결측치(누락되거나 엉뚱한 값이 들어간 것)를 처리하는 전처리 기능 제공.\n",
    "- 개발자 출신이면서 소프트웨어 개발하는 분들이 많이 씁니다. \n",
    "  문과출신들은 R을 쓰는게 좋다고 함.   "
   ]
  },
  {
   "cell_type": "markdown",
   "metadata": {},
   "source": [
    "# [1] <span style=\"color:blue\">1) Pandas 구성요소 확인 </span>\n",
    "- DataFrame : Data Table 전체를 의미하는 용어\n",
    "- Series : DataFrame 중에서 하나의 colum에 해당하는 데이터\n"
   ]
  },
  {
   "cell_type": "markdown",
   "metadata": {},
   "source": [
    "### series"
   ]
  },
  {
   "cell_type": "code",
   "execution_count": 11,
   "metadata": {},
   "outputs": [],
   "source": [
    "from pandas import Series, DataFrame #다른 사람들이 주는 잘 정리된 데이터가 아닌 직접 만들어야 하는 경우.\n",
    "import pandas as pd\n",
    "import numpy as np"
   ]
  },
  {
   "cell_type": "code",
   "execution_count": 12,
   "metadata": {},
   "outputs": [],
   "source": [
    "list_data = [1,2,3,4,5] #파이썬 리스트를 이용하여 데이터 준비. 대부분은 csv로 만들어진 데이터를 활용하기에 read_csv()를 많이쓴다.\n",
    "\n",
    "p_sample = Series(list_data)"
   ]
  },
  {
   "cell_type": "code",
   "execution_count": 13,
   "metadata": {},
   "outputs": [
    {
     "data": {
      "text/plain": [
       "[1, 2, 3, 4, 5]"
      ]
     },
     "execution_count": 13,
     "metadata": {},
     "output_type": "execute_result"
    }
   ],
   "source": [
    "list_data"
   ]
  },
  {
   "cell_type": "code",
   "execution_count": 14,
   "metadata": {},
   "outputs": [
    {
     "data": {
      "text/plain": [
       "0    1\n",
       "1    2\n",
       "2    3\n",
       "3    4\n",
       "4    5\n",
       "dtype: int64"
      ]
     },
     "execution_count": 14,
     "metadata": {},
     "output_type": "execute_result"
    }
   ],
   "source": [
    "p_sample"
   ]
  },
  {
   "cell_type": "code",
   "execution_count": 16,
   "metadata": {},
   "outputs": [
    {
     "data": {
      "text/plain": [
       "a       11\n",
       "b       12\n",
       "c       13\n",
       "zzzz    14\n",
       "ㅋㅋㅋㅋ    15\n",
       "dtype: int64"
      ]
     },
     "execution_count": 16,
     "metadata": {},
     "output_type": "execute_result"
    }
   ],
   "source": [
    "# index를 특별히 지정하지 않으면 0~ 부터시작한다.\n",
    "# index를 문자로 해도된다.\n",
    "\n",
    "list_data = [11,12,13,14,15]\n",
    "list_name = ['a','b','c','zzzz','ㅋㅋㅋㅋ']\n",
    "obj = Series(data=list_data, index=list_name)\n",
    "obj\n",
    "# 키값    밸류값\n",
    "#a       11\n",
    "#b       12\n",
    "#c       13\n",
    "#zzzz    14\n",
    "#ㅋㅋㅋㅋ    15\n"
   ]
  },
  {
   "cell_type": "code",
   "execution_count": 22,
   "metadata": {},
   "outputs": [
    {
     "data": {
      "text/plain": [
       "a    21.0\n",
       "b    22.0\n",
       "c    23.0\n",
       "d    24.0\n",
       "e    25.0\n",
       "Name: mySeries, dtype: float64"
      ]
     },
     "execution_count": 22,
     "metadata": {},
     "output_type": "execute_result"
    }
   ],
   "source": [
    "#파이썬 딕셔너리를 이용하여 Series 생성하기\n",
    "#시리즈를 만드는 것은 딕셔너리로도 가능하다.\n",
    "\n",
    "dic_data = {'a':21, 'b':22, 'c':23, 'd':24, 'e':25 } #자바스크립트의 경우 이를 JSON 이라고 부른다.#크롤링할 데이터들은 대부분 JSON구조\n",
    "dic_obj = Series(dic_data)#dtype는 int64로 자동설정된다.\n",
    "dic_obj = Series(dic_data, dtype=np.float, name=\"mySeries\")#혹시 float형으로 쓰고 싶다면 이렇게 작성.\n",
    "dic_obj"
   ]
  },
  {
   "cell_type": "code",
   "execution_count": 24,
   "metadata": {},
   "outputs": [
    {
     "data": {
      "text/plain": [
       "25.0"
      ]
     },
     "execution_count": 24,
     "metadata": {},
     "output_type": "execute_result"
    }
   ],
   "source": [
    "#데이터 참조하기\n",
    "#파이썬 딕셔너리로 만든 Series에서 데이터 꺼내기\n",
    "#일반적인 딕셔너리를 쓰듯이 하면된다.\n",
    "\n",
    "dic_obj[\"e\"] #출력결과가  dic_obj[4]와 같다."
   ]
  },
  {
   "cell_type": "code",
   "execution_count": 31,
   "metadata": {},
   "outputs": [
    {
     "data": {
      "text/plain": [
       "a    21.0\n",
       "b    22.0\n",
       "c    23.0\n",
       "d    24.0\n",
       "e    55.7\n",
       "Name: mySeries, dtype: float64"
      ]
     },
     "execution_count": 31,
     "metadata": {},
     "output_type": "execute_result"
    }
   ],
   "source": [
    "#데이터 수정하기\n",
    "dic_obj[\"e\"]=55.7\n",
    "dic_obj"
   ]
  },
  {
   "cell_type": "code",
   "execution_count": 32,
   "metadata": {},
   "outputs": [
    {
     "data": {
      "text/plain": [
       "array([21. , 22. , 23. , 24. , 55.7])"
      ]
     },
     "execution_count": 32,
     "metadata": {},
     "output_type": "execute_result"
    }
   ],
   "source": [
    "#value와 index를 각각 파이썬 리스트로 추출\n",
    "dic_obj.values #값만 출력!"
   ]
  },
  {
   "cell_type": "code",
   "execution_count": 35,
   "metadata": {},
   "outputs": [
    {
     "data": {
      "text/plain": [
       "Index(['a', 'b', 'c', 'd', 'e'], dtype='object')"
      ]
     },
     "execution_count": 35,
     "metadata": {},
     "output_type": "execute_result"
    }
   ],
   "source": [
    "#value와 index를 각각 파이썬 리스트로 추출\n",
    "dic_obj.index #인덱스만 출력한다."
   ]
  },
  {
   "cell_type": "code",
   "execution_count": 37,
   "metadata": {},
   "outputs": [
    {
     "data": {
      "text/plain": [
       "a    False\n",
       "b    False\n",
       "c     True\n",
       "d     True\n",
       "e     True\n",
       "Name: mySeries, dtype: bool"
      ]
     },
     "execution_count": 37,
     "metadata": {},
     "output_type": "execute_result"
    }
   ],
   "source": [
    "#Boolean연산\n",
    "dic_obj > 22"
   ]
  },
  {
   "cell_type": "code",
   "execution_count": 39,
   "metadata": {},
   "outputs": [
    {
     "data": {
      "text/plain": [
       "c    23.0\n",
       "d    24.0\n",
       "e    55.7\n",
       "Name: mySeries, dtype: float64"
      ]
     },
     "execution_count": 39,
     "metadata": {},
     "output_type": "execute_result"
    }
   ],
   "source": [
    "dic_obj[dic_obj>22] #True인 애들만 출력"
   ]
  },
  {
   "cell_type": "code",
   "execution_count": 44,
   "metadata": {},
   "outputs": [
    {
     "data": {
      "text/plain": [
       "a    31.50\n",
       "b    33.00\n",
       "c    34.50\n",
       "d    36.00\n",
       "e    83.55\n",
       "Name: mySeries, dtype: float64"
      ]
     },
     "execution_count": 44,
     "metadata": {},
     "output_type": "execute_result"
    }
   ],
   "source": [
    "dic_obj*1.5 #브로드 캐스팅"
   ]
  },
  {
   "cell_type": "code",
   "execution_count": 45,
   "metadata": {},
   "outputs": [
    {
     "data": {
      "text/plain": [
       "a    21.0\n",
       "b    22.0\n",
       "c    23.0\n",
       "d    24.0\n",
       "e    55.7\n",
       "Name: mySeries, dtype: float64"
      ]
     },
     "execution_count": 45,
     "metadata": {},
     "output_type": "execute_result"
    }
   ],
   "source": [
    "dic_obj #브로드 캐스팅 연산결과를 저장시키지 않았으므로 기존값들은 유지된다"
   ]
  },
  {
   "cell_type": "code",
   "execution_count": 46,
   "metadata": {},
   "outputs": [
    {
     "data": {
      "text/plain": [
       "a    1.318816e+09\n",
       "b    3.584913e+09\n",
       "c    9.744803e+09\n",
       "d    2.648912e+10\n",
       "e    1.549539e+24\n",
       "Name: mySeries, dtype: float64"
      ]
     },
     "execution_count": 46,
     "metadata": {},
     "output_type": "execute_result"
    }
   ],
   "source": [
    "np.exp(dic_obj)"
   ]
  },
  {
   "cell_type": "code",
   "execution_count": 47,
   "metadata": {},
   "outputs": [
    {
     "data": {
      "text/plain": [
       "False"
      ]
     },
     "execution_count": 47,
     "metadata": {},
     "output_type": "execute_result"
    }
   ],
   "source": [
    "\"k\" in dic_obj# \"k\"라는 키(index)가 있니? 라고 묻는 것."
   ]
  },
  {
   "cell_type": "code",
   "execution_count": 48,
   "metadata": {},
   "outputs": [
    {
     "data": {
      "text/plain": [
       "True"
      ]
     },
     "execution_count": 48,
     "metadata": {},
     "output_type": "execute_result"
    }
   ],
   "source": [
    "\"b\" in dic_obj# \"b\"라는 키(index)가 있니? 라고 묻는 것."
   ]
  },
  {
   "cell_type": "markdown",
   "metadata": {},
   "source": [
    "## NaN(Not a Number, \"데이터가 존재하지 않습니다!\" 라고 말하는 용어)"
   ]
  },
  {
   "cell_type": "code",
   "execution_count": 50,
   "metadata": {},
   "outputs": [
    {
     "data": {
      "text/plain": [
       "a    21.0\n",
       "b    22.0\n",
       "c    23.0\n",
       "d    24.0\n",
       "e    25.0\n",
       "f     NaN\n",
       "g     NaN\n",
       "h     NaN\n",
       "Name: mySeries1, dtype: float64"
      ]
     },
     "execution_count": 50,
     "metadata": {},
     "output_type": "execute_result"
    }
   ],
   "source": [
    "#파이썬 딕셔너리를 이용하여 Series 생성하기\n",
    "#시리즈를 만드는 것은 딕셔너리로도 가능하다.\n",
    "\n",
    "dic_data = {'a':21, 'b':22, 'c':23, 'd':24, 'e':25 } #자바스크립트의 경우 이를 JSON 이라고 부른다.#크롤링할 데이터들은 대부분 JSON구조\n",
    "list_name = ['a','b','c','d','e','f','g','h']\n",
    "dic_obj2 = Series(data=dic_data, index=list_name, dtype=np.float, name=\"mySeries1\")\n",
    "#\"index=\"는 인덱스의 이름을 지정하기 위해 사용한는 명령어.\n",
    "dic_obj2"
   ]
  },
  {
   "cell_type": "code",
   "execution_count": 52,
   "metadata": {},
   "outputs": [
    {
     "data": {
      "text/plain": [
       "a    21.0\n",
       "b    22.0\n",
       "c    23.0\n",
       "d    24.0\n",
       "e    25.0\n",
       "f     0.0\n",
       "g     0.0\n",
       "h     0.0\n",
       "Name: mySeries1, dtype: float64"
      ]
     },
     "execution_count": 52,
     "metadata": {},
     "output_type": "execute_result"
    }
   ],
   "source": [
    "dic_obj2.fillna(0) # NaN값들을 '0'으로 바꾸도록 설정하였다"
   ]
  },
  {
   "cell_type": "code",
   "execution_count": null,
   "metadata": {},
   "outputs": [],
   "source": []
  }
 ],
 "metadata": {
  "kernelspec": {
   "display_name": "Python 3",
   "language": "python",
   "name": "python3"
  },
  "language_info": {
   "codemirror_mode": {
    "name": "ipython",
    "version": 3
   },
   "file_extension": ".py",
   "mimetype": "text/x-python",
   "name": "python",
   "nbconvert_exporter": "python",
   "pygments_lexer": "ipython3",
   "version": "3.7.6"
  }
 },
 "nbformat": 4,
 "nbformat_minor": 4
}
