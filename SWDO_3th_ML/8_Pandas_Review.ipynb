{
 "cells": [
  {
   "cell_type": "markdown",
   "metadata": {},
   "source": [
    "# Pandas Review\n",
    "- 데이터를 분석하거나, AI를 하기위해 전 단계로 파일을 전처리하는 등의 처리를 위해 필요한 파이썬 라이브러리\n",
    "- 판다스는 걍 라이브러리일뿐, 의사결정을 하거나 분석을 하는 것은 사람이다.\n",
    "  데이터를 볼 수 있는 시각을 갖추는 것이 더 중요합니다\n",
    "  (이클립스 버전이 뛰어나봤자 프로그래밍 능력 없으면 걍 꽝인거랑 마찬가지지...)\n",
    "- 판다스의 데이터 구조는\n",
    "  (1)Series(#파이썬의 list를 활용하여 만든다)\n",
    "  (2)DataFrame(#파이썬의 dictionary를 활용하여 만든다.)\n",
    "  이다.\n",
    "- 요즘은 전처리 작업을 엑셀로 하는 일본 기업도 많습니다."
   ]
  },
  {
   "cell_type": "code",
   "execution_count": 1,
   "metadata": {},
   "outputs": [],
   "source": [
    "import numpy as np\n",
    "import pandas as pd"
   ]
  },
  {
   "cell_type": "code",
   "execution_count": 4,
   "metadata": {},
   "outputs": [
    {
     "data": {
      "text/plain": [
       "1    0.0\n",
       "3    1.0\n",
       "5    2.0\n",
       "7    3.0\n",
       "9    4.0\n",
       "dtype: float32"
      ]
     },
     "execution_count": 4,
     "metadata": {},
     "output_type": "execute_result"
    }
   ],
   "source": [
    "#시리즈 만들기 : pd.Series(데이터)\n",
    "pd.Series(list(range(5)), index=list(range(1,10,2)),dtype=np.float32)"
   ]
  },
  {
   "cell_type": "code",
   "execution_count": 6,
   "metadata": {},
   "outputs": [
    {
     "data": {
      "text/html": [
       "<div>\n",
       "<style scoped>\n",
       "    .dataframe tbody tr th:only-of-type {\n",
       "        vertical-align: middle;\n",
       "    }\n",
       "\n",
       "    .dataframe tbody tr th {\n",
       "        vertical-align: top;\n",
       "    }\n",
       "\n",
       "    .dataframe thead th {\n",
       "        text-align: right;\n",
       "    }\n",
       "</style>\n",
       "<table border=\"1\" class=\"dataframe\">\n",
       "  <thead>\n",
       "    <tr style=\"text-align: right;\">\n",
       "      <th></th>\n",
       "      <th>name</th>\n",
       "    </tr>\n",
       "  </thead>\n",
       "  <tbody>\n",
       "    <tr>\n",
       "      <th>a</th>\n",
       "      <td>5</td>\n",
       "    </tr>\n",
       "    <tr>\n",
       "      <th>b</th>\n",
       "      <td>10</td>\n",
       "    </tr>\n",
       "    <tr>\n",
       "      <th>c</th>\n",
       "      <td>15</td>\n",
       "    </tr>\n",
       "    <tr>\n",
       "      <th>d</th>\n",
       "      <td>20</td>\n",
       "    </tr>\n",
       "    <tr>\n",
       "      <th>e</th>\n",
       "      <td>25</td>\n",
       "    </tr>\n",
       "  </tbody>\n",
       "</table>\n",
       "</div>"
      ],
      "text/plain": [
       "   name\n",
       "a     5\n",
       "b    10\n",
       "c    15\n",
       "d    20\n",
       "e    25"
      ]
     },
     "execution_count": 6,
     "metadata": {},
     "output_type": "execute_result"
    }
   ],
   "source": [
    "#데이터프레임 만들기 : pd.DataFrame(데이터)\n",
    "pd.DataFrame([5,10,15,20,25], index=['a','b','c','d','e'],columns=['name'])"
   ]
  },
  {
   "cell_type": "code",
   "execution_count": 8,
   "metadata": {},
   "outputs": [
    {
     "data": {
      "text/plain": [
       "0     1.0\n",
       "1     3.0\n",
       "2     5.0\n",
       "3     7.0\n",
       "4     NaN\n",
       "5    11.0\n",
       "6    13.0\n",
       "dtype: float64"
      ]
     },
     "execution_count": 8,
     "metadata": {},
     "output_type": "execute_result"
    }
   ],
   "source": [
    "pd.Series([1,3,5,7, np.nan, 11,13]) #들어갈 데이터가 없다면 np.nan을 통해 비었다고 명시하자."
   ]
  },
  {
   "cell_type": "code",
   "execution_count": 11,
   "metadata": {},
   "outputs": [
    {
     "data": {
      "text/plain": [
       "DatetimeIndex(['2019-01-01', '2019-01-02', '2019-01-03', '2019-01-04',\n",
       "               '2019-01-05', '2019-01-06'],\n",
       "              dtype='datetime64[ns]', freq='D')"
      ]
     },
     "execution_count": 11,
     "metadata": {},
     "output_type": "execute_result"
    }
   ],
   "source": [
    "#시계열 \n",
    "dates = pd.date_range('20190101',periods=6)\n",
    "dates\n",
    "#여담 : 주식, 날씨 등이 대표적인 시계열 데이터다."
   ]
  },
  {
   "cell_type": "code",
   "execution_count": 13,
   "metadata": {},
   "outputs": [
    {
     "data": {
      "text/html": [
       "<div>\n",
       "<style scoped>\n",
       "    .dataframe tbody tr th:only-of-type {\n",
       "        vertical-align: middle;\n",
       "    }\n",
       "\n",
       "    .dataframe tbody tr th {\n",
       "        vertical-align: top;\n",
       "    }\n",
       "\n",
       "    .dataframe thead th {\n",
       "        text-align: right;\n",
       "    }\n",
       "</style>\n",
       "<table border=\"1\" class=\"dataframe\">\n",
       "  <thead>\n",
       "    <tr style=\"text-align: right;\">\n",
       "      <th></th>\n",
       "      <th>A</th>\n",
       "      <th>B</th>\n",
       "      <th>C</th>\n",
       "      <th>D</th>\n",
       "    </tr>\n",
       "  </thead>\n",
       "  <tbody>\n",
       "    <tr>\n",
       "      <th>2019-01-01</th>\n",
       "      <td>1.061684</td>\n",
       "      <td>-0.907053</td>\n",
       "      <td>-0.413933</td>\n",
       "      <td>-0.162002</td>\n",
       "    </tr>\n",
       "    <tr>\n",
       "      <th>2019-01-02</th>\n",
       "      <td>-0.444358</td>\n",
       "      <td>-1.083182</td>\n",
       "      <td>0.535444</td>\n",
       "      <td>0.105815</td>\n",
       "    </tr>\n",
       "    <tr>\n",
       "      <th>2019-01-03</th>\n",
       "      <td>-0.991184</td>\n",
       "      <td>0.502055</td>\n",
       "      <td>1.651753</td>\n",
       "      <td>-0.177969</td>\n",
       "    </tr>\n",
       "    <tr>\n",
       "      <th>2019-01-04</th>\n",
       "      <td>1.287825</td>\n",
       "      <td>-0.528829</td>\n",
       "      <td>-1.373616</td>\n",
       "      <td>0.201949</td>\n",
       "    </tr>\n",
       "    <tr>\n",
       "      <th>2019-01-05</th>\n",
       "      <td>1.174933</td>\n",
       "      <td>1.348709</td>\n",
       "      <td>0.018856</td>\n",
       "      <td>0.603602</td>\n",
       "    </tr>\n",
       "    <tr>\n",
       "      <th>2019-01-06</th>\n",
       "      <td>0.484919</td>\n",
       "      <td>1.588221</td>\n",
       "      <td>0.397736</td>\n",
       "      <td>1.103162</td>\n",
       "    </tr>\n",
       "  </tbody>\n",
       "</table>\n",
       "</div>"
      ],
      "text/plain": [
       "                   A         B         C         D\n",
       "2019-01-01  1.061684 -0.907053 -0.413933 -0.162002\n",
       "2019-01-02 -0.444358 -1.083182  0.535444  0.105815\n",
       "2019-01-03 -0.991184  0.502055  1.651753 -0.177969\n",
       "2019-01-04  1.287825 -0.528829 -1.373616  0.201949\n",
       "2019-01-05  1.174933  1.348709  0.018856  0.603602\n",
       "2019-01-06  0.484919  1.588221  0.397736  1.103162"
      ]
     },
     "execution_count": 13,
     "metadata": {},
     "output_type": "execute_result"
    }
   ],
   "source": [
    "df = pd.DataFrame(np.random.randn(6,4), index=dates, columns=list('ABCD')) # np.random.randn(6,4) : 24개의 랜덤값 생성한다\n",
    "df"
   ]
  },
  {
   "cell_type": "code",
   "execution_count": 18,
   "metadata": {},
   "outputs": [
    {
     "data": {
      "text/html": [
       "<div>\n",
       "<style scoped>\n",
       "    .dataframe tbody tr th:only-of-type {\n",
       "        vertical-align: middle;\n",
       "    }\n",
       "\n",
       "    .dataframe tbody tr th {\n",
       "        vertical-align: top;\n",
       "    }\n",
       "\n",
       "    .dataframe thead th {\n",
       "        text-align: right;\n",
       "    }\n",
       "</style>\n",
       "<table border=\"1\" class=\"dataframe\">\n",
       "  <thead>\n",
       "    <tr style=\"text-align: right;\">\n",
       "      <th></th>\n",
       "      <th>A</th>\n",
       "      <th>B</th>\n",
       "      <th>C</th>\n",
       "      <th>D</th>\n",
       "      <th>E</th>\n",
       "      <th>F</th>\n",
       "    </tr>\n",
       "  </thead>\n",
       "  <tbody>\n",
       "    <tr>\n",
       "      <th>0</th>\n",
       "      <td>10.5</td>\n",
       "      <td>2019-01-01</td>\n",
       "      <td>5.0</td>\n",
       "      <td>3</td>\n",
       "      <td>aaa</td>\n",
       "      <td>Python</td>\n",
       "    </tr>\n",
       "    <tr>\n",
       "      <th>1</th>\n",
       "      <td>10.5</td>\n",
       "      <td>2019-01-01</td>\n",
       "      <td>5.0</td>\n",
       "      <td>3</td>\n",
       "      <td>bbb</td>\n",
       "      <td>Python</td>\n",
       "    </tr>\n",
       "    <tr>\n",
       "      <th>2</th>\n",
       "      <td>10.5</td>\n",
       "      <td>2019-01-01</td>\n",
       "      <td>5.0</td>\n",
       "      <td>3</td>\n",
       "      <td>ccc</td>\n",
       "      <td>Python</td>\n",
       "    </tr>\n",
       "    <tr>\n",
       "      <th>3</th>\n",
       "      <td>10.5</td>\n",
       "      <td>2019-01-01</td>\n",
       "      <td>5.0</td>\n",
       "      <td>3</td>\n",
       "      <td>ddd</td>\n",
       "      <td>Python</td>\n",
       "    </tr>\n",
       "  </tbody>\n",
       "</table>\n",
       "</div>"
      ],
      "text/plain": [
       "      A          B    C  D    E       F\n",
       "0  10.5 2019-01-01  5.0  3  aaa  Python\n",
       "1  10.5 2019-01-01  5.0  3  bbb  Python\n",
       "2  10.5 2019-01-01  5.0  3  ccc  Python\n",
       "3  10.5 2019-01-01  5.0  3  ddd  Python"
      ]
     },
     "execution_count": 18,
     "metadata": {},
     "output_type": "execute_result"
    }
   ],
   "source": [
    "# Enum(이늄): 값의 범위가 한정된 경우에 많이 쓰입니다\n",
    "# (Ex) 성별(남/녀) 요일(월화수목금토일) 등등...\n",
    "\n",
    "df2 = pd.DataFrame({\n",
    "        'A' : 10.5,\n",
    "        'B' : pd.Timestamp('20190101'), #날짜를 넣어보겠습니다\n",
    "        'C' : pd.Series(5, index=list(range(0,4)),dtype=np.float32),\n",
    "        'D' : np.array([3]*4, dtype=np.int32),\n",
    "        'E' : pd.Categorical(['aaa','bbb','ccc','ddd']),\n",
    "        'F' : 'Python'\n",
    "})\n",
    "df2\n",
    "#행이 4개인 이유는 'E'가 가장 큰 많이 있기에 잠시 기준의 역할을 했을 뿐이다.\n",
    "#구글트렌드에서 검색하면 프로그래밍언어들의 관심순위들이 뜸.(점유율은 티오베라는 곳에서 확인하셈 ㅇㅅㅇ)"
   ]
  },
  {
   "cell_type": "code",
   "execution_count": 19,
   "metadata": {},
   "outputs": [
    {
     "data": {
      "text/plain": [
       "A           float64\n",
       "B    datetime64[ns]\n",
       "C           float32\n",
       "D             int32\n",
       "E          category\n",
       "F            object\n",
       "dtype: object"
      ]
     },
     "execution_count": 19,
     "metadata": {},
     "output_type": "execute_result"
    }
   ],
   "source": [
    "df2.dtypes"
   ]
  },
  {
   "cell_type": "markdown",
   "metadata": {},
   "source": [
    "## Pandas의 주요속성 및 메소드\n",
    "- index\n",
    "- columns\n",
    "- values\n",
    "- T\n",
    "- .head(개수) / .tail(개수)\n",
    "- .describe() : 데이터 프레임의 통계정보 출력\n",
    "- .sort_index() : 행이름이나 열이름을 정렬, axis\n",
    "- .sort_values(by=칼럼명)"
   ]
  },
  {
   "cell_type": "code",
   "execution_count": 21,
   "metadata": {},
   "outputs": [
    {
     "data": {
      "text/html": [
       "<div>\n",
       "<style scoped>\n",
       "    .dataframe tbody tr th:only-of-type {\n",
       "        vertical-align: middle;\n",
       "    }\n",
       "\n",
       "    .dataframe tbody tr th {\n",
       "        vertical-align: top;\n",
       "    }\n",
       "\n",
       "    .dataframe thead th {\n",
       "        text-align: right;\n",
       "    }\n",
       "</style>\n",
       "<table border=\"1\" class=\"dataframe\">\n",
       "  <thead>\n",
       "    <tr style=\"text-align: right;\">\n",
       "      <th></th>\n",
       "      <th>A</th>\n",
       "      <th>B</th>\n",
       "      <th>C</th>\n",
       "      <th>D</th>\n",
       "    </tr>\n",
       "  </thead>\n",
       "  <tbody>\n",
       "    <tr>\n",
       "      <th>count</th>\n",
       "      <td>6.000000</td>\n",
       "      <td>6.000000</td>\n",
       "      <td>6.000000</td>\n",
       "      <td>6.000000</td>\n",
       "    </tr>\n",
       "    <tr>\n",
       "      <th>mean</th>\n",
       "      <td>0.428970</td>\n",
       "      <td>0.153320</td>\n",
       "      <td>0.136040</td>\n",
       "      <td>0.279093</td>\n",
       "    </tr>\n",
       "    <tr>\n",
       "      <th>std</th>\n",
       "      <td>0.946265</td>\n",
       "      <td>1.160014</td>\n",
       "      <td>1.011994</td>\n",
       "      <td>0.494741</td>\n",
       "    </tr>\n",
       "    <tr>\n",
       "      <th>min</th>\n",
       "      <td>-0.991184</td>\n",
       "      <td>-1.083182</td>\n",
       "      <td>-1.373616</td>\n",
       "      <td>-0.177969</td>\n",
       "    </tr>\n",
       "    <tr>\n",
       "      <th>25%</th>\n",
       "      <td>-0.212039</td>\n",
       "      <td>-0.812497</td>\n",
       "      <td>-0.305736</td>\n",
       "      <td>-0.095048</td>\n",
       "    </tr>\n",
       "    <tr>\n",
       "      <th>50%</th>\n",
       "      <td>0.773302</td>\n",
       "      <td>-0.013387</td>\n",
       "      <td>0.208296</td>\n",
       "      <td>0.153882</td>\n",
       "    </tr>\n",
       "    <tr>\n",
       "      <th>75%</th>\n",
       "      <td>1.146621</td>\n",
       "      <td>1.137045</td>\n",
       "      <td>0.501017</td>\n",
       "      <td>0.503189</td>\n",
       "    </tr>\n",
       "    <tr>\n",
       "      <th>max</th>\n",
       "      <td>1.287825</td>\n",
       "      <td>1.588221</td>\n",
       "      <td>1.651753</td>\n",
       "      <td>1.103162</td>\n",
       "    </tr>\n",
       "  </tbody>\n",
       "</table>\n",
       "</div>"
      ],
      "text/plain": [
       "              A         B         C         D\n",
       "count  6.000000  6.000000  6.000000  6.000000\n",
       "mean   0.428970  0.153320  0.136040  0.279093\n",
       "std    0.946265  1.160014  1.011994  0.494741\n",
       "min   -0.991184 -1.083182 -1.373616 -0.177969\n",
       "25%   -0.212039 -0.812497 -0.305736 -0.095048\n",
       "50%    0.773302 -0.013387  0.208296  0.153882\n",
       "75%    1.146621  1.137045  0.501017  0.503189\n",
       "max    1.287825  1.588221  1.651753  1.103162"
      ]
     },
     "execution_count": 21,
     "metadata": {},
     "output_type": "execute_result"
    }
   ],
   "source": [
    "df.describe() # df의 통계정보를 보여줌."
   ]
  },
  {
   "cell_type": "code",
   "execution_count": 22,
   "metadata": {},
   "outputs": [
    {
     "data": {
      "text/html": [
       "<div>\n",
       "<style scoped>\n",
       "    .dataframe tbody tr th:only-of-type {\n",
       "        vertical-align: middle;\n",
       "    }\n",
       "\n",
       "    .dataframe tbody tr th {\n",
       "        vertical-align: top;\n",
       "    }\n",
       "\n",
       "    .dataframe thead th {\n",
       "        text-align: right;\n",
       "    }\n",
       "</style>\n",
       "<table border=\"1\" class=\"dataframe\">\n",
       "  <thead>\n",
       "    <tr style=\"text-align: right;\">\n",
       "      <th></th>\n",
       "      <th>A</th>\n",
       "      <th>B</th>\n",
       "      <th>C</th>\n",
       "      <th>D</th>\n",
       "    </tr>\n",
       "  </thead>\n",
       "  <tbody>\n",
       "    <tr>\n",
       "      <th>2019-01-01</th>\n",
       "      <td>1.061684</td>\n",
       "      <td>-0.907053</td>\n",
       "      <td>-0.413933</td>\n",
       "      <td>-0.162002</td>\n",
       "    </tr>\n",
       "    <tr>\n",
       "      <th>2019-01-02</th>\n",
       "      <td>-0.444358</td>\n",
       "      <td>-1.083182</td>\n",
       "      <td>0.535444</td>\n",
       "      <td>0.105815</td>\n",
       "    </tr>\n",
       "    <tr>\n",
       "      <th>2019-01-03</th>\n",
       "      <td>-0.991184</td>\n",
       "      <td>0.502055</td>\n",
       "      <td>1.651753</td>\n",
       "      <td>-0.177969</td>\n",
       "    </tr>\n",
       "    <tr>\n",
       "      <th>2019-01-04</th>\n",
       "      <td>1.287825</td>\n",
       "      <td>-0.528829</td>\n",
       "      <td>-1.373616</td>\n",
       "      <td>0.201949</td>\n",
       "    </tr>\n",
       "    <tr>\n",
       "      <th>2019-01-05</th>\n",
       "      <td>1.174933</td>\n",
       "      <td>1.348709</td>\n",
       "      <td>0.018856</td>\n",
       "      <td>0.603602</td>\n",
       "    </tr>\n",
       "    <tr>\n",
       "      <th>2019-01-06</th>\n",
       "      <td>0.484919</td>\n",
       "      <td>1.588221</td>\n",
       "      <td>0.397736</td>\n",
       "      <td>1.103162</td>\n",
       "    </tr>\n",
       "  </tbody>\n",
       "</table>\n",
       "</div>"
      ],
      "text/plain": [
       "                   A         B         C         D\n",
       "2019-01-01  1.061684 -0.907053 -0.413933 -0.162002\n",
       "2019-01-02 -0.444358 -1.083182  0.535444  0.105815\n",
       "2019-01-03 -0.991184  0.502055  1.651753 -0.177969\n",
       "2019-01-04  1.287825 -0.528829 -1.373616  0.201949\n",
       "2019-01-05  1.174933  1.348709  0.018856  0.603602\n",
       "2019-01-06  0.484919  1.588221  0.397736  1.103162"
      ]
     },
     "execution_count": 22,
     "metadata": {},
     "output_type": "execute_result"
    }
   ],
   "source": [
    "df #df가 어떤 값 갖고 있는지 보기용.(큰 의미 없음.)"
   ]
  },
  {
   "cell_type": "code",
   "execution_count": 24,
   "metadata": {},
   "outputs": [
    {
     "data": {
      "text/html": [
       "<div>\n",
       "<style scoped>\n",
       "    .dataframe tbody tr th:only-of-type {\n",
       "        vertical-align: middle;\n",
       "    }\n",
       "\n",
       "    .dataframe tbody tr th {\n",
       "        vertical-align: top;\n",
       "    }\n",
       "\n",
       "    .dataframe thead th {\n",
       "        text-align: right;\n",
       "    }\n",
       "</style>\n",
       "<table border=\"1\" class=\"dataframe\">\n",
       "  <thead>\n",
       "    <tr style=\"text-align: right;\">\n",
       "      <th></th>\n",
       "      <th>A</th>\n",
       "      <th>B</th>\n",
       "      <th>C</th>\n",
       "      <th>D</th>\n",
       "    </tr>\n",
       "  </thead>\n",
       "  <tbody>\n",
       "    <tr>\n",
       "      <th>2019-01-03</th>\n",
       "      <td>-0.991184</td>\n",
       "      <td>0.502055</td>\n",
       "      <td>1.651753</td>\n",
       "      <td>-0.177969</td>\n",
       "    </tr>\n",
       "    <tr>\n",
       "      <th>2019-01-02</th>\n",
       "      <td>-0.444358</td>\n",
       "      <td>-1.083182</td>\n",
       "      <td>0.535444</td>\n",
       "      <td>0.105815</td>\n",
       "    </tr>\n",
       "    <tr>\n",
       "      <th>2019-01-06</th>\n",
       "      <td>0.484919</td>\n",
       "      <td>1.588221</td>\n",
       "      <td>0.397736</td>\n",
       "      <td>1.103162</td>\n",
       "    </tr>\n",
       "    <tr>\n",
       "      <th>2019-01-01</th>\n",
       "      <td>1.061684</td>\n",
       "      <td>-0.907053</td>\n",
       "      <td>-0.413933</td>\n",
       "      <td>-0.162002</td>\n",
       "    </tr>\n",
       "    <tr>\n",
       "      <th>2019-01-05</th>\n",
       "      <td>1.174933</td>\n",
       "      <td>1.348709</td>\n",
       "      <td>0.018856</td>\n",
       "      <td>0.603602</td>\n",
       "    </tr>\n",
       "    <tr>\n",
       "      <th>2019-01-04</th>\n",
       "      <td>1.287825</td>\n",
       "      <td>-0.528829</td>\n",
       "      <td>-1.373616</td>\n",
       "      <td>0.201949</td>\n",
       "    </tr>\n",
       "  </tbody>\n",
       "</table>\n",
       "</div>"
      ],
      "text/plain": [
       "                   A         B         C         D\n",
       "2019-01-03 -0.991184  0.502055  1.651753 -0.177969\n",
       "2019-01-02 -0.444358 -1.083182  0.535444  0.105815\n",
       "2019-01-06  0.484919  1.588221  0.397736  1.103162\n",
       "2019-01-01  1.061684 -0.907053 -0.413933 -0.162002\n",
       "2019-01-05  1.174933  1.348709  0.018856  0.603602\n",
       "2019-01-04  1.287825 -0.528829 -1.373616  0.201949"
      ]
     },
     "execution_count": 24,
     "metadata": {},
     "output_type": "execute_result"
    }
   ],
   "source": [
    "df.sort_values(by='A') #A를 기준으로 정렬(sort)함. 내림차순이 기본적용된다."
   ]
  },
  {
   "cell_type": "code",
   "execution_count": 26,
   "metadata": {},
   "outputs": [
    {
     "data": {
      "text/html": [
       "<div>\n",
       "<style scoped>\n",
       "    .dataframe tbody tr th:only-of-type {\n",
       "        vertical-align: middle;\n",
       "    }\n",
       "\n",
       "    .dataframe tbody tr th {\n",
       "        vertical-align: top;\n",
       "    }\n",
       "\n",
       "    .dataframe thead th {\n",
       "        text-align: right;\n",
       "    }\n",
       "</style>\n",
       "<table border=\"1\" class=\"dataframe\">\n",
       "  <thead>\n",
       "    <tr style=\"text-align: right;\">\n",
       "      <th></th>\n",
       "      <th>C</th>\n",
       "      <th>D</th>\n",
       "      <th>A</th>\n",
       "      <th>B</th>\n",
       "    </tr>\n",
       "  </thead>\n",
       "  <tbody>\n",
       "    <tr>\n",
       "      <th>2019-01-01</th>\n",
       "      <td>-0.413933</td>\n",
       "      <td>-0.162002</td>\n",
       "      <td>1.061684</td>\n",
       "      <td>-0.907053</td>\n",
       "    </tr>\n",
       "    <tr>\n",
       "      <th>2019-01-02</th>\n",
       "      <td>0.535444</td>\n",
       "      <td>0.105815</td>\n",
       "      <td>-0.444358</td>\n",
       "      <td>-1.083182</td>\n",
       "    </tr>\n",
       "    <tr>\n",
       "      <th>2019-01-03</th>\n",
       "      <td>1.651753</td>\n",
       "      <td>-0.177969</td>\n",
       "      <td>-0.991184</td>\n",
       "      <td>0.502055</td>\n",
       "    </tr>\n",
       "    <tr>\n",
       "      <th>2019-01-04</th>\n",
       "      <td>-1.373616</td>\n",
       "      <td>0.201949</td>\n",
       "      <td>1.287825</td>\n",
       "      <td>-0.528829</td>\n",
       "    </tr>\n",
       "    <tr>\n",
       "      <th>2019-01-05</th>\n",
       "      <td>0.018856</td>\n",
       "      <td>0.603602</td>\n",
       "      <td>1.174933</td>\n",
       "      <td>1.348709</td>\n",
       "    </tr>\n",
       "    <tr>\n",
       "      <th>2019-01-06</th>\n",
       "      <td>0.397736</td>\n",
       "      <td>1.103162</td>\n",
       "      <td>0.484919</td>\n",
       "      <td>1.588221</td>\n",
       "    </tr>\n",
       "  </tbody>\n",
       "</table>\n",
       "</div>"
      ],
      "text/plain": [
       "                   C         D         A         B\n",
       "2019-01-01 -0.413933 -0.162002  1.061684 -0.907053\n",
       "2019-01-02  0.535444  0.105815 -0.444358 -1.083182\n",
       "2019-01-03  1.651753 -0.177969 -0.991184  0.502055\n",
       "2019-01-04 -1.373616  0.201949  1.287825 -0.528829\n",
       "2019-01-05  0.018856  0.603602  1.174933  1.348709\n",
       "2019-01-06  0.397736  1.103162  0.484919  1.588221"
      ]
     },
     "execution_count": 26,
     "metadata": {},
     "output_type": "execute_result"
    }
   ],
   "source": [
    "df.sort_values(axis=1, by='2019-01-02', ascending=False) #A를 기준으로 정렬(sort)함. 올림차순으로 하도록 적용된다."
   ]
  },
  {
   "cell_type": "markdown",
   "metadata": {},
   "source": [
    "# 데이터 selection"
   ]
  },
  {
   "cell_type": "markdown",
   "metadata": {},
   "source": [
    "## 1)이름을 이용한 Selection"
   ]
  },
  {
   "cell_type": "code",
   "execution_count": 29,
   "metadata": {},
   "outputs": [
    {
     "data": {
      "text/html": [
       "<div>\n",
       "<style scoped>\n",
       "    .dataframe tbody tr th:only-of-type {\n",
       "        vertical-align: middle;\n",
       "    }\n",
       "\n",
       "    .dataframe tbody tr th {\n",
       "        vertical-align: top;\n",
       "    }\n",
       "\n",
       "    .dataframe thead th {\n",
       "        text-align: right;\n",
       "    }\n",
       "</style>\n",
       "<table border=\"1\" class=\"dataframe\">\n",
       "  <thead>\n",
       "    <tr style=\"text-align: right;\">\n",
       "      <th></th>\n",
       "      <th>A</th>\n",
       "      <th>B</th>\n",
       "      <th>C</th>\n",
       "      <th>D</th>\n",
       "    </tr>\n",
       "  </thead>\n",
       "  <tbody>\n",
       "    <tr>\n",
       "      <th>2019-01-01</th>\n",
       "      <td>1.061684</td>\n",
       "      <td>-0.907053</td>\n",
       "      <td>-0.413933</td>\n",
       "      <td>-0.162002</td>\n",
       "    </tr>\n",
       "    <tr>\n",
       "      <th>2019-01-02</th>\n",
       "      <td>-0.444358</td>\n",
       "      <td>-1.083182</td>\n",
       "      <td>0.535444</td>\n",
       "      <td>0.105815</td>\n",
       "    </tr>\n",
       "    <tr>\n",
       "      <th>2019-01-03</th>\n",
       "      <td>-0.991184</td>\n",
       "      <td>0.502055</td>\n",
       "      <td>1.651753</td>\n",
       "      <td>-0.177969</td>\n",
       "    </tr>\n",
       "    <tr>\n",
       "      <th>2019-01-04</th>\n",
       "      <td>1.287825</td>\n",
       "      <td>-0.528829</td>\n",
       "      <td>-1.373616</td>\n",
       "      <td>0.201949</td>\n",
       "    </tr>\n",
       "    <tr>\n",
       "      <th>2019-01-05</th>\n",
       "      <td>1.174933</td>\n",
       "      <td>1.348709</td>\n",
       "      <td>0.018856</td>\n",
       "      <td>0.603602</td>\n",
       "    </tr>\n",
       "    <tr>\n",
       "      <th>2019-01-06</th>\n",
       "      <td>0.484919</td>\n",
       "      <td>1.588221</td>\n",
       "      <td>0.397736</td>\n",
       "      <td>1.103162</td>\n",
       "    </tr>\n",
       "  </tbody>\n",
       "</table>\n",
       "</div>"
      ],
      "text/plain": [
       "                   A         B         C         D\n",
       "2019-01-01  1.061684 -0.907053 -0.413933 -0.162002\n",
       "2019-01-02 -0.444358 -1.083182  0.535444  0.105815\n",
       "2019-01-03 -0.991184  0.502055  1.651753 -0.177969\n",
       "2019-01-04  1.287825 -0.528829 -1.373616  0.201949\n",
       "2019-01-05  1.174933  1.348709  0.018856  0.603602\n",
       "2019-01-06  0.484919  1.588221  0.397736  1.103162"
      ]
     },
     "execution_count": 29,
     "metadata": {},
     "output_type": "execute_result"
    }
   ],
   "source": [
    "df"
   ]
  },
  {
   "cell_type": "code",
   "execution_count": 31,
   "metadata": {
    "scrolled": true
   },
   "outputs": [
    {
     "data": {
      "text/plain": [
       "2019-01-01    1.061684\n",
       "2019-01-02   -0.444358\n",
       "2019-01-03   -0.991184\n",
       "2019-01-04    1.287825\n",
       "2019-01-05    1.174933\n",
       "2019-01-06    0.484919\n",
       "Freq: D, Name: A, dtype: float64"
      ]
     },
     "execution_count": 31,
     "metadata": {},
     "output_type": "execute_result"
    }
   ],
   "source": [
    "df['A'] #칼럼 A의 데이터들과 데이터형등을 알 수 있다."
   ]
  },
  {
   "cell_type": "code",
   "execution_count": 33,
   "metadata": {},
   "outputs": [
    {
     "data": {
      "text/plain": [
       "pandas.core.series.Series"
      ]
     },
     "execution_count": 33,
     "metadata": {},
     "output_type": "execute_result"
    }
   ],
   "source": [
    "type(df['A'])"
   ]
  },
  {
   "cell_type": "markdown",
   "metadata": {},
   "source": [
    "## 2) Slicing을 이용한 선택"
   ]
  },
  {
   "cell_type": "code",
   "execution_count": 34,
   "metadata": {
    "scrolled": true
   },
   "outputs": [
    {
     "data": {
      "text/html": [
       "<div>\n",
       "<style scoped>\n",
       "    .dataframe tbody tr th:only-of-type {\n",
       "        vertical-align: middle;\n",
       "    }\n",
       "\n",
       "    .dataframe tbody tr th {\n",
       "        vertical-align: top;\n",
       "    }\n",
       "\n",
       "    .dataframe thead th {\n",
       "        text-align: right;\n",
       "    }\n",
       "</style>\n",
       "<table border=\"1\" class=\"dataframe\">\n",
       "  <thead>\n",
       "    <tr style=\"text-align: right;\">\n",
       "      <th></th>\n",
       "      <th>A</th>\n",
       "      <th>B</th>\n",
       "      <th>C</th>\n",
       "      <th>D</th>\n",
       "    </tr>\n",
       "  </thead>\n",
       "  <tbody>\n",
       "    <tr>\n",
       "      <th>2019-01-01</th>\n",
       "      <td>1.061684</td>\n",
       "      <td>-0.907053</td>\n",
       "      <td>-0.413933</td>\n",
       "      <td>-0.162002</td>\n",
       "    </tr>\n",
       "    <tr>\n",
       "      <th>2019-01-02</th>\n",
       "      <td>-0.444358</td>\n",
       "      <td>-1.083182</td>\n",
       "      <td>0.535444</td>\n",
       "      <td>0.105815</td>\n",
       "    </tr>\n",
       "    <tr>\n",
       "      <th>2019-01-03</th>\n",
       "      <td>-0.991184</td>\n",
       "      <td>0.502055</td>\n",
       "      <td>1.651753</td>\n",
       "      <td>-0.177969</td>\n",
       "    </tr>\n",
       "  </tbody>\n",
       "</table>\n",
       "</div>"
      ],
      "text/plain": [
       "                   A         B         C         D\n",
       "2019-01-01  1.061684 -0.907053 -0.413933 -0.162002\n",
       "2019-01-02 -0.444358 -1.083182  0.535444  0.105815\n",
       "2019-01-03 -0.991184  0.502055  1.651753 -0.177969"
      ]
     },
     "execution_count": 34,
     "metadata": {},
     "output_type": "execute_result"
    }
   ],
   "source": [
    "df[0:3]"
   ]
  },
  {
   "cell_type": "code",
   "execution_count": 36,
   "metadata": {},
   "outputs": [
    {
     "data": {
      "text/html": [
       "<div>\n",
       "<style scoped>\n",
       "    .dataframe tbody tr th:only-of-type {\n",
       "        vertical-align: middle;\n",
       "    }\n",
       "\n",
       "    .dataframe tbody tr th {\n",
       "        vertical-align: top;\n",
       "    }\n",
       "\n",
       "    .dataframe thead th {\n",
       "        text-align: right;\n",
       "    }\n",
       "</style>\n",
       "<table border=\"1\" class=\"dataframe\">\n",
       "  <thead>\n",
       "    <tr style=\"text-align: right;\">\n",
       "      <th></th>\n",
       "      <th>A</th>\n",
       "      <th>B</th>\n",
       "      <th>C</th>\n",
       "      <th>D</th>\n",
       "    </tr>\n",
       "  </thead>\n",
       "  <tbody>\n",
       "    <tr>\n",
       "      <th>2019-01-01</th>\n",
       "      <td>1.061684</td>\n",
       "      <td>-0.907053</td>\n",
       "      <td>-0.413933</td>\n",
       "      <td>-0.162002</td>\n",
       "    </tr>\n",
       "    <tr>\n",
       "      <th>2019-01-02</th>\n",
       "      <td>-0.444358</td>\n",
       "      <td>-1.083182</td>\n",
       "      <td>0.535444</td>\n",
       "      <td>0.105815</td>\n",
       "    </tr>\n",
       "    <tr>\n",
       "      <th>2019-01-03</th>\n",
       "      <td>-0.991184</td>\n",
       "      <td>0.502055</td>\n",
       "      <td>1.651753</td>\n",
       "      <td>-0.177969</td>\n",
       "    </tr>\n",
       "  </tbody>\n",
       "</table>\n",
       "</div>"
      ],
      "text/plain": [
       "                   A         B         C         D\n",
       "2019-01-01  1.061684 -0.907053 -0.413933 -0.162002\n",
       "2019-01-02 -0.444358 -1.083182  0.535444  0.105815\n",
       "2019-01-03 -0.991184  0.502055  1.651753 -0.177969"
      ]
     },
     "execution_count": 36,
     "metadata": {},
     "output_type": "execute_result"
    }
   ],
   "source": [
    "df['2019-01-01':'2019-01-03'] #'2019-01-01'부터'2019-01-03'까지의 행들의 데이터들을 갖고 온다. df[0:3]와 결과는 같다."
   ]
  },
  {
   "cell_type": "code",
   "execution_count": null,
   "metadata": {},
   "outputs": [],
   "source": []
  },
  {
   "cell_type": "markdown",
   "metadata": {},
   "source": [
    "## 3).loc를 이용한 선택"
   ]
  },
  {
   "cell_type": "code",
   "execution_count": 38,
   "metadata": {},
   "outputs": [
    {
     "data": {
      "text/plain": [
       "A    1.061684\n",
       "B   -0.907053\n",
       "C   -0.413933\n",
       "D   -0.162002\n",
       "Name: 2019-01-01 00:00:00, dtype: float64"
      ]
     },
     "execution_count": 38,
     "metadata": {},
     "output_type": "execute_result"
    }
   ],
   "source": [
    "df.loc[dates[0]] #0번째 행(2019-01-01)의 데이터들을 갖고 온다."
   ]
  },
  {
   "cell_type": "code",
   "execution_count": 40,
   "metadata": {},
   "outputs": [
    {
     "data": {
      "text/html": [
       "<div>\n",
       "<style scoped>\n",
       "    .dataframe tbody tr th:only-of-type {\n",
       "        vertical-align: middle;\n",
       "    }\n",
       "\n",
       "    .dataframe tbody tr th {\n",
       "        vertical-align: top;\n",
       "    }\n",
       "\n",
       "    .dataframe thead th {\n",
       "        text-align: right;\n",
       "    }\n",
       "</style>\n",
       "<table border=\"1\" class=\"dataframe\">\n",
       "  <thead>\n",
       "    <tr style=\"text-align: right;\">\n",
       "      <th></th>\n",
       "      <th>A</th>\n",
       "      <th>C</th>\n",
       "    </tr>\n",
       "  </thead>\n",
       "  <tbody>\n",
       "    <tr>\n",
       "      <th>2019-01-01</th>\n",
       "      <td>1.061684</td>\n",
       "      <td>-0.413933</td>\n",
       "    </tr>\n",
       "    <tr>\n",
       "      <th>2019-01-02</th>\n",
       "      <td>-0.444358</td>\n",
       "      <td>0.535444</td>\n",
       "    </tr>\n",
       "    <tr>\n",
       "      <th>2019-01-03</th>\n",
       "      <td>-0.991184</td>\n",
       "      <td>1.651753</td>\n",
       "    </tr>\n",
       "    <tr>\n",
       "      <th>2019-01-04</th>\n",
       "      <td>1.287825</td>\n",
       "      <td>-1.373616</td>\n",
       "    </tr>\n",
       "    <tr>\n",
       "      <th>2019-01-05</th>\n",
       "      <td>1.174933</td>\n",
       "      <td>0.018856</td>\n",
       "    </tr>\n",
       "    <tr>\n",
       "      <th>2019-01-06</th>\n",
       "      <td>0.484919</td>\n",
       "      <td>0.397736</td>\n",
       "    </tr>\n",
       "  </tbody>\n",
       "</table>\n",
       "</div>"
      ],
      "text/plain": [
       "                   A         C\n",
       "2019-01-01  1.061684 -0.413933\n",
       "2019-01-02 -0.444358  0.535444\n",
       "2019-01-03 -0.991184  1.651753\n",
       "2019-01-04  1.287825 -1.373616\n",
       "2019-01-05  1.174933  0.018856\n",
       "2019-01-06  0.484919  0.397736"
      ]
     },
     "execution_count": 40,
     "metadata": {},
     "output_type": "execute_result"
    }
   ],
   "source": [
    "df.loc[:, ['A', 'C']] #모든행(:,)들의 데이터를 갖고온다. 다만 A,C열의 데이터들을 갖고 온다."
   ]
  },
  {
   "cell_type": "code",
   "execution_count": 41,
   "metadata": {},
   "outputs": [
    {
     "data": {
      "text/html": [
       "<div>\n",
       "<style scoped>\n",
       "    .dataframe tbody tr th:only-of-type {\n",
       "        vertical-align: middle;\n",
       "    }\n",
       "\n",
       "    .dataframe tbody tr th {\n",
       "        vertical-align: top;\n",
       "    }\n",
       "\n",
       "    .dataframe thead th {\n",
       "        text-align: right;\n",
       "    }\n",
       "</style>\n",
       "<table border=\"1\" class=\"dataframe\">\n",
       "  <thead>\n",
       "    <tr style=\"text-align: right;\">\n",
       "      <th></th>\n",
       "      <th>A</th>\n",
       "      <th>C</th>\n",
       "    </tr>\n",
       "  </thead>\n",
       "  <tbody>\n",
       "    <tr>\n",
       "      <th>2019-01-04</th>\n",
       "      <td>1.287825</td>\n",
       "      <td>-1.373616</td>\n",
       "    </tr>\n",
       "    <tr>\n",
       "      <th>2019-01-05</th>\n",
       "      <td>1.174933</td>\n",
       "      <td>0.018856</td>\n",
       "    </tr>\n",
       "    <tr>\n",
       "      <th>2019-01-06</th>\n",
       "      <td>0.484919</td>\n",
       "      <td>0.397736</td>\n",
       "    </tr>\n",
       "  </tbody>\n",
       "</table>\n",
       "</div>"
      ],
      "text/plain": [
       "                   A         C\n",
       "2019-01-04  1.287825 -1.373616\n",
       "2019-01-05  1.174933  0.018856\n",
       "2019-01-06  0.484919  0.397736"
      ]
     },
     "execution_count": 41,
     "metadata": {},
     "output_type": "execute_result"
    }
   ],
   "source": [
    "df.loc['2019-01-04':'2019-01-06', ['A', 'C']] #A,C열의 데이터들을 갖고 온다."
   ]
  },
  {
   "cell_type": "code",
   "execution_count": 43,
   "metadata": {},
   "outputs": [
    {
     "data": {
      "text/plain": [
       "A    1.061684\n",
       "C   -0.413933\n",
       "Name: 2019-01-01 00:00:00, dtype: float64"
      ]
     },
     "execution_count": 43,
     "metadata": {},
     "output_type": "execute_result"
    }
   ],
   "source": [
    "df.loc[dates[0], ['A', 'C']] #A,C열의 데이터들을 갖고 온다."
   ]
  },
  {
   "cell_type": "markdown",
   "metadata": {},
   "source": [
    "## 4).iloc를 이용한 선택"
   ]
  },
  {
   "cell_type": "code",
   "execution_count": 50,
   "metadata": {},
   "outputs": [
    {
     "data": {
      "text/html": [
       "<div>\n",
       "<style scoped>\n",
       "    .dataframe tbody tr th:only-of-type {\n",
       "        vertical-align: middle;\n",
       "    }\n",
       "\n",
       "    .dataframe tbody tr th {\n",
       "        vertical-align: top;\n",
       "    }\n",
       "\n",
       "    .dataframe thead th {\n",
       "        text-align: right;\n",
       "    }\n",
       "</style>\n",
       "<table border=\"1\" class=\"dataframe\">\n",
       "  <thead>\n",
       "    <tr style=\"text-align: right;\">\n",
       "      <th></th>\n",
       "      <th>A</th>\n",
       "      <th>C</th>\n",
       "    </tr>\n",
       "  </thead>\n",
       "  <tbody>\n",
       "    <tr>\n",
       "      <th>2019-01-02</th>\n",
       "      <td>-0.444358</td>\n",
       "      <td>0.535444</td>\n",
       "    </tr>\n",
       "    <tr>\n",
       "      <th>2019-01-03</th>\n",
       "      <td>-0.991184</td>\n",
       "      <td>1.651753</td>\n",
       "    </tr>\n",
       "    <tr>\n",
       "      <th>2019-01-05</th>\n",
       "      <td>1.174933</td>\n",
       "      <td>0.018856</td>\n",
       "    </tr>\n",
       "  </tbody>\n",
       "</table>\n",
       "</div>"
      ],
      "text/plain": [
       "                   A         C\n",
       "2019-01-02 -0.444358  0.535444\n",
       "2019-01-03 -0.991184  1.651753\n",
       "2019-01-05  1.174933  0.018856"
      ]
     },
     "execution_count": 50,
     "metadata": {},
     "output_type": "execute_result"
    }
   ],
   "source": [
    "df.iloc[[1,2,4],[0,2]] #1,2,4행 & 0,2열의 자료를 갖고오고 싶다"
   ]
  },
  {
   "cell_type": "markdown",
   "metadata": {},
   "source": [
    "## 5).at를 이용한 선택"
   ]
  },
  {
   "cell_type": "code",
   "execution_count": 47,
   "metadata": {},
   "outputs": [
    {
     "data": {
      "text/plain": [
       "1.0616844873809956"
      ]
     },
     "execution_count": 47,
     "metadata": {},
     "output_type": "execute_result"
    }
   ],
   "source": [
    "df.at[dates[0], 'A'] #.at은 리스트형을 인덱스로 받을 수 없다."
   ]
  },
  {
   "cell_type": "markdown",
   "metadata": {},
   "source": [
    "## 6) 조건을 이용한 선택 : 불리언 인덱싱(참인 값을 찾기위해 사용)"
   ]
  },
  {
   "cell_type": "code",
   "execution_count": 56,
   "metadata": {},
   "outputs": [
    {
     "data": {
      "text/html": [
       "<div>\n",
       "<style scoped>\n",
       "    .dataframe tbody tr th:only-of-type {\n",
       "        vertical-align: middle;\n",
       "    }\n",
       "\n",
       "    .dataframe tbody tr th {\n",
       "        vertical-align: top;\n",
       "    }\n",
       "\n",
       "    .dataframe thead th {\n",
       "        text-align: right;\n",
       "    }\n",
       "</style>\n",
       "<table border=\"1\" class=\"dataframe\">\n",
       "  <thead>\n",
       "    <tr style=\"text-align: right;\">\n",
       "      <th></th>\n",
       "      <th>A</th>\n",
       "      <th>B</th>\n",
       "      <th>C</th>\n",
       "      <th>D</th>\n",
       "    </tr>\n",
       "  </thead>\n",
       "  <tbody>\n",
       "    <tr>\n",
       "      <th>2019-01-01</th>\n",
       "      <td>1.061684</td>\n",
       "      <td>-0.907053</td>\n",
       "      <td>-0.413933</td>\n",
       "      <td>-0.162002</td>\n",
       "    </tr>\n",
       "    <tr>\n",
       "      <th>2019-01-02</th>\n",
       "      <td>-0.444358</td>\n",
       "      <td>-1.083182</td>\n",
       "      <td>0.535444</td>\n",
       "      <td>0.105815</td>\n",
       "    </tr>\n",
       "    <tr>\n",
       "      <th>2019-01-03</th>\n",
       "      <td>-0.991184</td>\n",
       "      <td>0.502055</td>\n",
       "      <td>1.651753</td>\n",
       "      <td>-0.177969</td>\n",
       "    </tr>\n",
       "    <tr>\n",
       "      <th>2019-01-04</th>\n",
       "      <td>1.287825</td>\n",
       "      <td>-0.528829</td>\n",
       "      <td>-1.373616</td>\n",
       "      <td>0.201949</td>\n",
       "    </tr>\n",
       "    <tr>\n",
       "      <th>2019-01-05</th>\n",
       "      <td>1.174933</td>\n",
       "      <td>1.348709</td>\n",
       "      <td>0.018856</td>\n",
       "      <td>0.603602</td>\n",
       "    </tr>\n",
       "    <tr>\n",
       "      <th>2019-01-06</th>\n",
       "      <td>0.484919</td>\n",
       "      <td>1.588221</td>\n",
       "      <td>0.397736</td>\n",
       "      <td>1.103162</td>\n",
       "    </tr>\n",
       "  </tbody>\n",
       "</table>\n",
       "</div>"
      ],
      "text/plain": [
       "                   A         B         C         D\n",
       "2019-01-01  1.061684 -0.907053 -0.413933 -0.162002\n",
       "2019-01-02 -0.444358 -1.083182  0.535444  0.105815\n",
       "2019-01-03 -0.991184  0.502055  1.651753 -0.177969\n",
       "2019-01-04  1.287825 -0.528829 -1.373616  0.201949\n",
       "2019-01-05  1.174933  1.348709  0.018856  0.603602\n",
       "2019-01-06  0.484919  1.588221  0.397736  1.103162"
      ]
     },
     "execution_count": 56,
     "metadata": {},
     "output_type": "execute_result"
    }
   ],
   "source": [
    "df"
   ]
  },
  {
   "cell_type": "code",
   "execution_count": 52,
   "metadata": {},
   "outputs": [
    {
     "data": {
      "text/html": [
       "<div>\n",
       "<style scoped>\n",
       "    .dataframe tbody tr th:only-of-type {\n",
       "        vertical-align: middle;\n",
       "    }\n",
       "\n",
       "    .dataframe tbody tr th {\n",
       "        vertical-align: top;\n",
       "    }\n",
       "\n",
       "    .dataframe thead th {\n",
       "        text-align: right;\n",
       "    }\n",
       "</style>\n",
       "<table border=\"1\" class=\"dataframe\">\n",
       "  <thead>\n",
       "    <tr style=\"text-align: right;\">\n",
       "      <th></th>\n",
       "      <th>A</th>\n",
       "      <th>B</th>\n",
       "      <th>C</th>\n",
       "      <th>D</th>\n",
       "    </tr>\n",
       "  </thead>\n",
       "  <tbody>\n",
       "    <tr>\n",
       "      <th>2019-01-01</th>\n",
       "      <td>1.061684</td>\n",
       "      <td>NaN</td>\n",
       "      <td>NaN</td>\n",
       "      <td>NaN</td>\n",
       "    </tr>\n",
       "    <tr>\n",
       "      <th>2019-01-02</th>\n",
       "      <td>NaN</td>\n",
       "      <td>NaN</td>\n",
       "      <td>0.535444</td>\n",
       "      <td>0.105815</td>\n",
       "    </tr>\n",
       "    <tr>\n",
       "      <th>2019-01-03</th>\n",
       "      <td>NaN</td>\n",
       "      <td>0.502055</td>\n",
       "      <td>1.651753</td>\n",
       "      <td>NaN</td>\n",
       "    </tr>\n",
       "    <tr>\n",
       "      <th>2019-01-04</th>\n",
       "      <td>1.287825</td>\n",
       "      <td>NaN</td>\n",
       "      <td>NaN</td>\n",
       "      <td>0.201949</td>\n",
       "    </tr>\n",
       "    <tr>\n",
       "      <th>2019-01-05</th>\n",
       "      <td>1.174933</td>\n",
       "      <td>1.348709</td>\n",
       "      <td>0.018856</td>\n",
       "      <td>0.603602</td>\n",
       "    </tr>\n",
       "    <tr>\n",
       "      <th>2019-01-06</th>\n",
       "      <td>0.484919</td>\n",
       "      <td>1.588221</td>\n",
       "      <td>0.397736</td>\n",
       "      <td>1.103162</td>\n",
       "    </tr>\n",
       "  </tbody>\n",
       "</table>\n",
       "</div>"
      ],
      "text/plain": [
       "                   A         B         C         D\n",
       "2019-01-01  1.061684       NaN       NaN       NaN\n",
       "2019-01-02       NaN       NaN  0.535444  0.105815\n",
       "2019-01-03       NaN  0.502055  1.651753       NaN\n",
       "2019-01-04  1.287825       NaN       NaN  0.201949\n",
       "2019-01-05  1.174933  1.348709  0.018856  0.603602\n",
       "2019-01-06  0.484919  1.588221  0.397736  1.103162"
      ]
     },
     "execution_count": 52,
     "metadata": {},
     "output_type": "execute_result"
    }
   ],
   "source": [
    "df[df>0] #0보다 값이 작다면 갖고 오지 않는다. 그래서 NaN으로 표기된다."
   ]
  },
  {
   "cell_type": "code",
   "execution_count": 55,
   "metadata": {},
   "outputs": [
    {
     "data": {
      "text/html": [
       "<div>\n",
       "<style scoped>\n",
       "    .dataframe tbody tr th:only-of-type {\n",
       "        vertical-align: middle;\n",
       "    }\n",
       "\n",
       "    .dataframe tbody tr th {\n",
       "        vertical-align: top;\n",
       "    }\n",
       "\n",
       "    .dataframe thead th {\n",
       "        text-align: right;\n",
       "    }\n",
       "</style>\n",
       "<table border=\"1\" class=\"dataframe\">\n",
       "  <thead>\n",
       "    <tr style=\"text-align: right;\">\n",
       "      <th></th>\n",
       "      <th>A</th>\n",
       "      <th>B</th>\n",
       "      <th>C</th>\n",
       "      <th>D</th>\n",
       "    </tr>\n",
       "  </thead>\n",
       "  <tbody>\n",
       "    <tr>\n",
       "      <th>2019-01-01</th>\n",
       "      <td>1.061684</td>\n",
       "      <td>-0.907053</td>\n",
       "      <td>-0.413933</td>\n",
       "      <td>-0.162002</td>\n",
       "    </tr>\n",
       "    <tr>\n",
       "      <th>2019-01-04</th>\n",
       "      <td>1.287825</td>\n",
       "      <td>-0.528829</td>\n",
       "      <td>-1.373616</td>\n",
       "      <td>0.201949</td>\n",
       "    </tr>\n",
       "    <tr>\n",
       "      <th>2019-01-05</th>\n",
       "      <td>1.174933</td>\n",
       "      <td>1.348709</td>\n",
       "      <td>0.018856</td>\n",
       "      <td>0.603602</td>\n",
       "    </tr>\n",
       "  </tbody>\n",
       "</table>\n",
       "</div>"
      ],
      "text/plain": [
       "                   A         B         C         D\n",
       "2019-01-01  1.061684 -0.907053 -0.413933 -0.162002\n",
       "2019-01-04  1.287825 -0.528829 -1.373616  0.201949\n",
       "2019-01-05  1.174933  1.348709  0.018856  0.603602"
      ]
     },
     "execution_count": 55,
     "metadata": {},
     "output_type": "execute_result"
    }
   ],
   "source": [
    "df[df.A > 1] #A열의 값이 1보다 큰 경우 해당 행들을 출력한다."
   ]
  },
  {
   "cell_type": "code",
   "execution_count": 59,
   "metadata": {},
   "outputs": [
    {
     "data": {
      "text/html": [
       "<div>\n",
       "<style scoped>\n",
       "    .dataframe tbody tr th:only-of-type {\n",
       "        vertical-align: middle;\n",
       "    }\n",
       "\n",
       "    .dataframe tbody tr th {\n",
       "        vertical-align: top;\n",
       "    }\n",
       "\n",
       "    .dataframe thead th {\n",
       "        text-align: right;\n",
       "    }\n",
       "</style>\n",
       "<table border=\"1\" class=\"dataframe\">\n",
       "  <thead>\n",
       "    <tr style=\"text-align: right;\">\n",
       "      <th></th>\n",
       "      <th>A</th>\n",
       "      <th>B</th>\n",
       "      <th>C</th>\n",
       "      <th>D</th>\n",
       "    </tr>\n",
       "  </thead>\n",
       "  <tbody>\n",
       "    <tr>\n",
       "      <th>2019-01-05</th>\n",
       "      <td>1.174933</td>\n",
       "      <td>1.348709</td>\n",
       "      <td>0.018856</td>\n",
       "      <td>0.603602</td>\n",
       "    </tr>\n",
       "    <tr>\n",
       "      <th>2019-01-06</th>\n",
       "      <td>0.484919</td>\n",
       "      <td>1.588221</td>\n",
       "      <td>0.397736</td>\n",
       "      <td>1.103162</td>\n",
       "    </tr>\n",
       "  </tbody>\n",
       "</table>\n",
       "</div>"
      ],
      "text/plain": [
       "                   A         B         C         D\n",
       "2019-01-05  1.174933  1.348709  0.018856  0.603602\n",
       "2019-01-06  0.484919  1.588221  0.397736  1.103162"
      ]
     },
     "execution_count": 59,
     "metadata": {},
     "output_type": "execute_result"
    }
   ],
   "source": [
    "df[df.B > 1] #B열의 값이 1보다 큰 경우 해당 행들을 출력한다."
   ]
  },
  {
   "cell_type": "code",
   "execution_count": 61,
   "metadata": {},
   "outputs": [
    {
     "data": {
      "text/html": [
       "<div>\n",
       "<style scoped>\n",
       "    .dataframe tbody tr th:only-of-type {\n",
       "        vertical-align: middle;\n",
       "    }\n",
       "\n",
       "    .dataframe tbody tr th {\n",
       "        vertical-align: top;\n",
       "    }\n",
       "\n",
       "    .dataframe thead th {\n",
       "        text-align: right;\n",
       "    }\n",
       "</style>\n",
       "<table border=\"1\" class=\"dataframe\">\n",
       "  <thead>\n",
       "    <tr style=\"text-align: right;\">\n",
       "      <th></th>\n",
       "      <th>A</th>\n",
       "      <th>B</th>\n",
       "      <th>C</th>\n",
       "      <th>D</th>\n",
       "    </tr>\n",
       "  </thead>\n",
       "  <tbody>\n",
       "    <tr>\n",
       "      <th>2019-01-01</th>\n",
       "      <td>1.061684</td>\n",
       "      <td>-0.907053</td>\n",
       "      <td>-0.413933</td>\n",
       "      <td>-0.162002</td>\n",
       "    </tr>\n",
       "    <tr>\n",
       "      <th>2019-01-02</th>\n",
       "      <td>-0.444358</td>\n",
       "      <td>-1.083182</td>\n",
       "      <td>0.535444</td>\n",
       "      <td>0.105815</td>\n",
       "    </tr>\n",
       "    <tr>\n",
       "      <th>2019-01-03</th>\n",
       "      <td>-0.991184</td>\n",
       "      <td>0.502055</td>\n",
       "      <td>1.651753</td>\n",
       "      <td>-0.177969</td>\n",
       "    </tr>\n",
       "    <tr>\n",
       "      <th>2019-01-04</th>\n",
       "      <td>1.287825</td>\n",
       "      <td>-0.528829</td>\n",
       "      <td>-1.373616</td>\n",
       "      <td>0.201949</td>\n",
       "    </tr>\n",
       "    <tr>\n",
       "      <th>2019-01-05</th>\n",
       "      <td>1.174933</td>\n",
       "      <td>1.348709</td>\n",
       "      <td>0.018856</td>\n",
       "      <td>0.603602</td>\n",
       "    </tr>\n",
       "    <tr>\n",
       "      <th>2019-01-06</th>\n",
       "      <td>0.484919</td>\n",
       "      <td>1.588221</td>\n",
       "      <td>0.397736</td>\n",
       "      <td>1.103162</td>\n",
       "    </tr>\n",
       "  </tbody>\n",
       "</table>\n",
       "</div>"
      ],
      "text/plain": [
       "                   A         B         C         D\n",
       "2019-01-01  1.061684 -0.907053 -0.413933 -0.162002\n",
       "2019-01-02 -0.444358 -1.083182  0.535444  0.105815\n",
       "2019-01-03 -0.991184  0.502055  1.651753 -0.177969\n",
       "2019-01-04  1.287825 -0.528829 -1.373616  0.201949\n",
       "2019-01-05  1.174933  1.348709  0.018856  0.603602\n",
       "2019-01-06  0.484919  1.588221  0.397736  1.103162"
      ]
     },
     "execution_count": 61,
     "metadata": {},
     "output_type": "execute_result"
    }
   ],
   "source": [
    "df2 = df.copy() #.copy() : df를 똑같이 복사해옴.\n",
    "df2"
   ]
  },
  {
   "cell_type": "code",
   "execution_count": 63,
   "metadata": {},
   "outputs": [],
   "source": [
    "df2['E'] = ['One','Two','Three','One','Two','Three']"
   ]
  },
  {
   "cell_type": "code",
   "execution_count": 64,
   "metadata": {},
   "outputs": [
    {
     "data": {
      "text/html": [
       "<div>\n",
       "<style scoped>\n",
       "    .dataframe tbody tr th:only-of-type {\n",
       "        vertical-align: middle;\n",
       "    }\n",
       "\n",
       "    .dataframe tbody tr th {\n",
       "        vertical-align: top;\n",
       "    }\n",
       "\n",
       "    .dataframe thead th {\n",
       "        text-align: right;\n",
       "    }\n",
       "</style>\n",
       "<table border=\"1\" class=\"dataframe\">\n",
       "  <thead>\n",
       "    <tr style=\"text-align: right;\">\n",
       "      <th></th>\n",
       "      <th>A</th>\n",
       "      <th>B</th>\n",
       "      <th>C</th>\n",
       "      <th>D</th>\n",
       "      <th>E</th>\n",
       "    </tr>\n",
       "  </thead>\n",
       "  <tbody>\n",
       "    <tr>\n",
       "      <th>2019-01-01</th>\n",
       "      <td>1.061684</td>\n",
       "      <td>-0.907053</td>\n",
       "      <td>-0.413933</td>\n",
       "      <td>-0.162002</td>\n",
       "      <td>One</td>\n",
       "    </tr>\n",
       "    <tr>\n",
       "      <th>2019-01-02</th>\n",
       "      <td>-0.444358</td>\n",
       "      <td>-1.083182</td>\n",
       "      <td>0.535444</td>\n",
       "      <td>0.105815</td>\n",
       "      <td>Two</td>\n",
       "    </tr>\n",
       "    <tr>\n",
       "      <th>2019-01-03</th>\n",
       "      <td>-0.991184</td>\n",
       "      <td>0.502055</td>\n",
       "      <td>1.651753</td>\n",
       "      <td>-0.177969</td>\n",
       "      <td>Three</td>\n",
       "    </tr>\n",
       "    <tr>\n",
       "      <th>2019-01-04</th>\n",
       "      <td>1.287825</td>\n",
       "      <td>-0.528829</td>\n",
       "      <td>-1.373616</td>\n",
       "      <td>0.201949</td>\n",
       "      <td>One</td>\n",
       "    </tr>\n",
       "    <tr>\n",
       "      <th>2019-01-05</th>\n",
       "      <td>1.174933</td>\n",
       "      <td>1.348709</td>\n",
       "      <td>0.018856</td>\n",
       "      <td>0.603602</td>\n",
       "      <td>Two</td>\n",
       "    </tr>\n",
       "    <tr>\n",
       "      <th>2019-01-06</th>\n",
       "      <td>0.484919</td>\n",
       "      <td>1.588221</td>\n",
       "      <td>0.397736</td>\n",
       "      <td>1.103162</td>\n",
       "      <td>Three</td>\n",
       "    </tr>\n",
       "  </tbody>\n",
       "</table>\n",
       "</div>"
      ],
      "text/plain": [
       "                   A         B         C         D      E\n",
       "2019-01-01  1.061684 -0.907053 -0.413933 -0.162002    One\n",
       "2019-01-02 -0.444358 -1.083182  0.535444  0.105815    Two\n",
       "2019-01-03 -0.991184  0.502055  1.651753 -0.177969  Three\n",
       "2019-01-04  1.287825 -0.528829 -1.373616  0.201949    One\n",
       "2019-01-05  1.174933  1.348709  0.018856  0.603602    Two\n",
       "2019-01-06  0.484919  1.588221  0.397736  1.103162  Three"
      ]
     },
     "execution_count": 64,
     "metadata": {},
     "output_type": "execute_result"
    }
   ],
   "source": [
    "df2"
   ]
  },
  {
   "cell_type": "code",
   "execution_count": 68,
   "metadata": {},
   "outputs": [
    {
     "data": {
      "text/plain": [
       "2019-01-01    False\n",
       "2019-01-02     True\n",
       "2019-01-03    False\n",
       "2019-01-04    False\n",
       "2019-01-05     True\n",
       "2019-01-06    False\n",
       "Freq: D, Name: E, dtype: bool"
      ]
     },
     "execution_count": 68,
     "metadata": {},
     "output_type": "execute_result"
    }
   ],
   "source": [
    "df2['E'].isin(['Two']) #각 행들에게 'Two'라는 데이터가 들어 있으냐?"
   ]
  },
  {
   "cell_type": "code",
   "execution_count": 71,
   "metadata": {},
   "outputs": [
    {
     "data": {
      "text/html": [
       "<div>\n",
       "<style scoped>\n",
       "    .dataframe tbody tr th:only-of-type {\n",
       "        vertical-align: middle;\n",
       "    }\n",
       "\n",
       "    .dataframe tbody tr th {\n",
       "        vertical-align: top;\n",
       "    }\n",
       "\n",
       "    .dataframe thead th {\n",
       "        text-align: right;\n",
       "    }\n",
       "</style>\n",
       "<table border=\"1\" class=\"dataframe\">\n",
       "  <thead>\n",
       "    <tr style=\"text-align: right;\">\n",
       "      <th></th>\n",
       "      <th>A</th>\n",
       "      <th>B</th>\n",
       "      <th>C</th>\n",
       "      <th>D</th>\n",
       "      <th>E</th>\n",
       "    </tr>\n",
       "  </thead>\n",
       "  <tbody>\n",
       "    <tr>\n",
       "      <th>2019-01-01</th>\n",
       "      <td>1.061684</td>\n",
       "      <td>-0.907053</td>\n",
       "      <td>-0.413933</td>\n",
       "      <td>-0.162002</td>\n",
       "      <td>One</td>\n",
       "    </tr>\n",
       "    <tr>\n",
       "      <th>2019-01-02</th>\n",
       "      <td>-0.444358</td>\n",
       "      <td>-1.083182</td>\n",
       "      <td>0.535444</td>\n",
       "      <td>0.105815</td>\n",
       "      <td>Two</td>\n",
       "    </tr>\n",
       "    <tr>\n",
       "      <th>2019-01-04</th>\n",
       "      <td>1.287825</td>\n",
       "      <td>-0.528829</td>\n",
       "      <td>-1.373616</td>\n",
       "      <td>0.201949</td>\n",
       "      <td>One</td>\n",
       "    </tr>\n",
       "    <tr>\n",
       "      <th>2019-01-05</th>\n",
       "      <td>1.174933</td>\n",
       "      <td>1.348709</td>\n",
       "      <td>0.018856</td>\n",
       "      <td>0.603602</td>\n",
       "      <td>Two</td>\n",
       "    </tr>\n",
       "  </tbody>\n",
       "</table>\n",
       "</div>"
      ],
      "text/plain": [
       "                   A         B         C         D    E\n",
       "2019-01-01  1.061684 -0.907053 -0.413933 -0.162002  One\n",
       "2019-01-02 -0.444358 -1.083182  0.535444  0.105815  Two\n",
       "2019-01-04  1.287825 -0.528829 -1.373616  0.201949  One\n",
       "2019-01-05  1.174933  1.348709  0.018856  0.603602  Two"
      ]
     },
     "execution_count": 71,
     "metadata": {},
     "output_type": "execute_result"
    }
   ],
   "source": [
    "df2[df2['E'].isin(['One','Two'])] #'One'또는 'Two'라는 데이터가 들어있는 행은 출력"
   ]
  },
  {
   "cell_type": "markdown",
   "metadata": {},
   "source": [
    "### Data 변경"
   ]
  },
  {
   "cell_type": "code",
   "execution_count": 79,
   "metadata": {},
   "outputs": [
    {
     "data": {
      "text/plain": [
       "2019-01-02    1\n",
       "2019-01-03    2\n",
       "2019-01-04    3\n",
       "2019-01-05    4\n",
       "2019-01-06    5\n",
       "2019-01-07    6\n",
       "Freq: D, dtype: int64"
      ]
     },
     "execution_count": 79,
     "metadata": {},
     "output_type": "execute_result"
    }
   ],
   "source": [
    "mySeries = pd.Series([1,2,3,4,5,6],index=pd.date_range('20190102',periods=6))\n",
    "mySeries"
   ]
  },
  {
   "cell_type": "code",
   "execution_count": 82,
   "metadata": {},
   "outputs": [
    {
     "data": {
      "text/html": [
       "<div>\n",
       "<style scoped>\n",
       "    .dataframe tbody tr th:only-of-type {\n",
       "        vertical-align: middle;\n",
       "    }\n",
       "\n",
       "    .dataframe tbody tr th {\n",
       "        vertical-align: top;\n",
       "    }\n",
       "\n",
       "    .dataframe thead th {\n",
       "        text-align: right;\n",
       "    }\n",
       "</style>\n",
       "<table border=\"1\" class=\"dataframe\">\n",
       "  <thead>\n",
       "    <tr style=\"text-align: right;\">\n",
       "      <th></th>\n",
       "      <th>A</th>\n",
       "      <th>B</th>\n",
       "      <th>C</th>\n",
       "      <th>D</th>\n",
       "      <th>E</th>\n",
       "      <th>F</th>\n",
       "    </tr>\n",
       "  </thead>\n",
       "  <tbody>\n",
       "    <tr>\n",
       "      <th>2019-01-01</th>\n",
       "      <td>1.061684</td>\n",
       "      <td>-0.907053</td>\n",
       "      <td>-0.413933</td>\n",
       "      <td>-0.162002</td>\n",
       "      <td>One</td>\n",
       "      <td>NaN</td>\n",
       "    </tr>\n",
       "    <tr>\n",
       "      <th>2019-01-02</th>\n",
       "      <td>-0.444358</td>\n",
       "      <td>-1.083182</td>\n",
       "      <td>0.535444</td>\n",
       "      <td>0.105815</td>\n",
       "      <td>Two</td>\n",
       "      <td>1.0</td>\n",
       "    </tr>\n",
       "    <tr>\n",
       "      <th>2019-01-03</th>\n",
       "      <td>-0.991184</td>\n",
       "      <td>0.502055</td>\n",
       "      <td>1.651753</td>\n",
       "      <td>-0.177969</td>\n",
       "      <td>Three</td>\n",
       "      <td>2.0</td>\n",
       "    </tr>\n",
       "    <tr>\n",
       "      <th>2019-01-04</th>\n",
       "      <td>1.287825</td>\n",
       "      <td>-0.528829</td>\n",
       "      <td>-1.373616</td>\n",
       "      <td>0.201949</td>\n",
       "      <td>One</td>\n",
       "      <td>3.0</td>\n",
       "    </tr>\n",
       "    <tr>\n",
       "      <th>2019-01-05</th>\n",
       "      <td>1.174933</td>\n",
       "      <td>1.348709</td>\n",
       "      <td>0.018856</td>\n",
       "      <td>0.603602</td>\n",
       "      <td>Two</td>\n",
       "      <td>4.0</td>\n",
       "    </tr>\n",
       "    <tr>\n",
       "      <th>2019-01-06</th>\n",
       "      <td>0.484919</td>\n",
       "      <td>1.588221</td>\n",
       "      <td>0.397736</td>\n",
       "      <td>1.103162</td>\n",
       "      <td>Three</td>\n",
       "      <td>5.0</td>\n",
       "    </tr>\n",
       "  </tbody>\n",
       "</table>\n",
       "</div>"
      ],
      "text/plain": [
       "                   A         B         C         D      E    F\n",
       "2019-01-01  1.061684 -0.907053 -0.413933 -0.162002    One  NaN\n",
       "2019-01-02 -0.444358 -1.083182  0.535444  0.105815    Two  1.0\n",
       "2019-01-03 -0.991184  0.502055  1.651753 -0.177969  Three  2.0\n",
       "2019-01-04  1.287825 -0.528829 -1.373616  0.201949    One  3.0\n",
       "2019-01-05  1.174933  1.348709  0.018856  0.603602    Two  4.0\n",
       "2019-01-06  0.484919  1.588221  0.397736  1.103162  Three  5.0"
      ]
     },
     "execution_count": 82,
     "metadata": {},
     "output_type": "execute_result"
    }
   ],
   "source": [
    "df2['F'] = mySeries\n",
    "df2 \n",
    "#데이터를 가져오면 몇십만 셀이 되는데 이런식으로 NaN결측값들이 반드시 있다."
   ]
  },
  {
   "cell_type": "markdown",
   "metadata": {},
   "source": [
    "### 결측치 처리하기\n",
    "- 결측치란 : 어떠한 이유든지 우리가 가진 데이터가 전부 측정되지 못하고 존재하지 않는 경우가 발생할 수 있다.\n",
    "           이러한 데이터들을 결측치라고 한다.\n",
    "- np.nan 라는 상수를 결측치를 나타낼 수 있다.\n",
    "- fillna() : NaN이면 ( )내의 값으로 바꿔준다. .fillna(0)는 NaN을 0으로 채운다는 의미가 된다.  \n",
    "- dropna() : 결측치를 버린다. 결측치를 0으로 처리해도 영향을 주기 때문.\n",
    "- isna() : 결측치이냐? 라고 묻는 명령문."
   ]
  },
  {
   "cell_type": "code",
   "execution_count": 90,
   "metadata": {},
   "outputs": [
    {
     "data": {
      "text/html": [
       "<div>\n",
       "<style scoped>\n",
       "    .dataframe tbody tr th:only-of-type {\n",
       "        vertical-align: middle;\n",
       "    }\n",
       "\n",
       "    .dataframe tbody tr th {\n",
       "        vertical-align: top;\n",
       "    }\n",
       "\n",
       "    .dataframe thead th {\n",
       "        text-align: right;\n",
       "    }\n",
       "</style>\n",
       "<table border=\"1\" class=\"dataframe\">\n",
       "  <thead>\n",
       "    <tr style=\"text-align: right;\">\n",
       "      <th></th>\n",
       "      <th>A</th>\n",
       "      <th>B</th>\n",
       "      <th>C</th>\n",
       "      <th>D</th>\n",
       "      <th>E</th>\n",
       "      <th>F</th>\n",
       "    </tr>\n",
       "  </thead>\n",
       "  <tbody>\n",
       "    <tr>\n",
       "      <th>2019-01-02</th>\n",
       "      <td>-0.444358</td>\n",
       "      <td>-1.083182</td>\n",
       "      <td>0.535444</td>\n",
       "      <td>0.105815</td>\n",
       "      <td>Two</td>\n",
       "      <td>1.0</td>\n",
       "    </tr>\n",
       "    <tr>\n",
       "      <th>2019-01-03</th>\n",
       "      <td>-0.991184</td>\n",
       "      <td>0.502055</td>\n",
       "      <td>1.651753</td>\n",
       "      <td>-0.177969</td>\n",
       "      <td>Three</td>\n",
       "      <td>2.0</td>\n",
       "    </tr>\n",
       "    <tr>\n",
       "      <th>2019-01-04</th>\n",
       "      <td>1.287825</td>\n",
       "      <td>-0.528829</td>\n",
       "      <td>-1.373616</td>\n",
       "      <td>0.201949</td>\n",
       "      <td>One</td>\n",
       "      <td>3.0</td>\n",
       "    </tr>\n",
       "    <tr>\n",
       "      <th>2019-01-05</th>\n",
       "      <td>1.174933</td>\n",
       "      <td>1.348709</td>\n",
       "      <td>0.018856</td>\n",
       "      <td>0.603602</td>\n",
       "      <td>Two</td>\n",
       "      <td>4.0</td>\n",
       "    </tr>\n",
       "    <tr>\n",
       "      <th>2019-01-06</th>\n",
       "      <td>0.484919</td>\n",
       "      <td>1.588221</td>\n",
       "      <td>0.397736</td>\n",
       "      <td>1.103162</td>\n",
       "      <td>Three</td>\n",
       "      <td>5.0</td>\n",
       "    </tr>\n",
       "  </tbody>\n",
       "</table>\n",
       "</div>"
      ],
      "text/plain": [
       "                   A         B         C         D      E    F\n",
       "2019-01-02 -0.444358 -1.083182  0.535444  0.105815    Two  1.0\n",
       "2019-01-03 -0.991184  0.502055  1.651753 -0.177969  Three  2.0\n",
       "2019-01-04  1.287825 -0.528829 -1.373616  0.201949    One  3.0\n",
       "2019-01-05  1.174933  1.348709  0.018856  0.603602    Two  4.0\n",
       "2019-01-06  0.484919  1.588221  0.397736  1.103162  Three  5.0"
      ]
     },
     "execution_count": 90,
     "metadata": {},
     "output_type": "execute_result"
    }
   ],
   "source": [
    "df2.dropna(how='any') #결측치가 있는 행은 통째로 날려버린다."
   ]
  },
  {
   "cell_type": "code",
   "execution_count": 98,
   "metadata": {},
   "outputs": [
    {
     "data": {
      "text/html": [
       "<div>\n",
       "<style scoped>\n",
       "    .dataframe tbody tr th:only-of-type {\n",
       "        vertical-align: middle;\n",
       "    }\n",
       "\n",
       "    .dataframe tbody tr th {\n",
       "        vertical-align: top;\n",
       "    }\n",
       "\n",
       "    .dataframe thead th {\n",
       "        text-align: right;\n",
       "    }\n",
       "</style>\n",
       "<table border=\"1\" class=\"dataframe\">\n",
       "  <thead>\n",
       "    <tr style=\"text-align: right;\">\n",
       "      <th></th>\n",
       "      <th>F</th>\n",
       "    </tr>\n",
       "  </thead>\n",
       "  <tbody>\n",
       "    <tr>\n",
       "      <th>2019-01-01</th>\n",
       "      <td>NaN</td>\n",
       "    </tr>\n",
       "    <tr>\n",
       "      <th>2019-01-02</th>\n",
       "      <td>NaN</td>\n",
       "    </tr>\n",
       "    <tr>\n",
       "      <th>2019-01-03</th>\n",
       "      <td>NaN</td>\n",
       "    </tr>\n",
       "  </tbody>\n",
       "</table>\n",
       "</div>"
      ],
      "text/plain": [
       "             F\n",
       "2019-01-01 NaN\n",
       "2019-01-02 NaN\n",
       "2019-01-03 NaN"
      ]
     },
     "execution_count": 98,
     "metadata": {},
     "output_type": "execute_result"
    }
   ],
   "source": [
    "#연습을 위해 일부러 결측치를 더 만든다.\n",
    "df1 = df.reindex(index=dates[0:3], columns=list(['F']) ) #reindex 인덱스 다시 만든다.\n",
    "df1"
   ]
  },
  {
   "cell_type": "code",
   "execution_count": 99,
   "metadata": {},
   "outputs": [
    {
     "data": {
      "text/html": [
       "<div>\n",
       "<style scoped>\n",
       "    .dataframe tbody tr th:only-of-type {\n",
       "        vertical-align: middle;\n",
       "    }\n",
       "\n",
       "    .dataframe tbody tr th {\n",
       "        vertical-align: top;\n",
       "    }\n",
       "\n",
       "    .dataframe thead th {\n",
       "        text-align: right;\n",
       "    }\n",
       "</style>\n",
       "<table border=\"1\" class=\"dataframe\">\n",
       "  <thead>\n",
       "    <tr style=\"text-align: right;\">\n",
       "      <th></th>\n",
       "      <th>F</th>\n",
       "    </tr>\n",
       "  </thead>\n",
       "  <tbody>\n",
       "    <tr>\n",
       "      <th>2019-01-01</th>\n",
       "      <td>6.0</td>\n",
       "    </tr>\n",
       "    <tr>\n",
       "      <th>2019-01-02</th>\n",
       "      <td>6.0</td>\n",
       "    </tr>\n",
       "    <tr>\n",
       "      <th>2019-01-03</th>\n",
       "      <td>6.0</td>\n",
       "    </tr>\n",
       "  </tbody>\n",
       "</table>\n",
       "</div>"
      ],
      "text/plain": [
       "              F\n",
       "2019-01-01  6.0\n",
       "2019-01-02  6.0\n",
       "2019-01-03  6.0"
      ]
     },
     "execution_count": 99,
     "metadata": {},
     "output_type": "execute_result"
    }
   ],
   "source": [
    "#df1.loc[dotes[0]:dates[1], 'F'] =1 \n",
    "df1.fillna(0) #.fillna(0) : NaN을 0으로 채워라."
   ]
  },
  {
   "cell_type": "code",
   "execution_count": 100,
   "metadata": {},
   "outputs": [],
   "source": [
    "# vlookup 함수 피벗테이블"
   ]
  },
  {
   "cell_type": "code",
   "execution_count": null,
   "metadata": {},
   "outputs": [],
   "source": []
  },
  {
   "cell_type": "code",
   "execution_count": null,
   "metadata": {},
   "outputs": [],
   "source": []
  },
  {
   "cell_type": "code",
   "execution_count": null,
   "metadata": {},
   "outputs": [],
   "source": []
  },
  {
   "cell_type": "code",
   "execution_count": null,
   "metadata": {},
   "outputs": [],
   "source": []
  },
  {
   "cell_type": "code",
   "execution_count": null,
   "metadata": {},
   "outputs": [],
   "source": []
  }
 ],
 "metadata": {
  "kernelspec": {
   "display_name": "Python 3",
   "language": "python",
   "name": "python3"
  },
  "language_info": {
   "codemirror_mode": {
    "name": "ipython",
    "version": 3
   },
   "file_extension": ".py",
   "mimetype": "text/x-python",
   "name": "python",
   "nbconvert_exporter": "python",
   "pygments_lexer": "ipython3",
   "version": "3.7.6"
  }
 },
 "nbformat": 4,
 "nbformat_minor": 4
}
