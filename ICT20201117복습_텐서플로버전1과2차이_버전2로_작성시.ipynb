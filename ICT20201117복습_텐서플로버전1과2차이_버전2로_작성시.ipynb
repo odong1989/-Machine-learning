{
  "nbformat": 4,
  "nbformat_minor": 0,
  "metadata": {
    "colab": {
      "name": "ICT20201117복습_텐서플로버전1과2차이_버전2로 작성시.ipynb",
      "provenance": [],
      "authorship_tag": "ABX9TyO/mndhBEHXelpWTHtoDyY0",
      "include_colab_link": true
    },
    "kernelspec": {
      "name": "python3",
      "display_name": "Python 3"
    }
  },
  "cells": [
    {
      "cell_type": "markdown",
      "metadata": {
        "id": "view-in-github",
        "colab_type": "text"
      },
      "source": [
        "<a href=\"https://colab.research.google.com/github/odong1989/-Machine-learning/blob/master/ICT20201117%EB%B3%B5%EC%8A%B5_%ED%85%90%EC%84%9C%ED%94%8C%EB%A1%9C%EB%B2%84%EC%A0%841%EA%B3%BC2%EC%B0%A8%EC%9D%B4_%EB%B2%84%EC%A0%842%EB%A1%9C_%EC%9E%91%EC%84%B1%EC%8B%9C.ipynb\" target=\"_parent\"><img src=\"https://colab.research.google.com/assets/colab-badge.svg\" alt=\"Open In Colab\"/></a>"
      ]
    },
    {
      "cell_type": "code",
      "metadata": {
        "id": "Umnd1Q3XsQtI"
      },
      "source": [
        "import tensorflow as tf                      #버전1의 경우 \r\n",
        "                                             #import tensorflow,compat.v1 as tf\r\n",
        "                                             #tf.disable_v2_behavior"
      ],
      "execution_count": 1,
      "outputs": []
    },
    {
      "cell_type": "code",
      "metadata": {
        "colab": {
          "base_uri": "https://localhost:8080/"
        },
        "id": "PglqQufusnRy",
        "outputId": "85d1335e-8cf1-40b9-e844-11c4f6a3b3c2"
      },
      "source": [
        "x = tf.constant([ [1.0, 2.0, 3.0]])          #x = tf.constant([ [1.0, 2.0, 3.0]])\r\n",
        "w = tf.constant([ [2.0], [2.0], [2.0] ])     #w = tf.constant([ [2.0], [2.0], [2.0] ])\r\n",
        "y =tf.matmul(x,w)                            #y = tf.matmul(x,w) \r\n",
        "\r\n",
        "print(y)                                     #print(x.get_shape())\r\n",
        "print(y.shape)                               #print(w.get_shape())\r\n",
        "print(y.dtype)                               #print(y.get_shape())\r\n",
        "print(y)"
      ],
      "execution_count": 6,
      "outputs": [
        {
          "output_type": "stream",
          "text": [
            "tf.Tensor([[12.]], shape=(1, 1), dtype=float32)\n",
            "(1, 1)\n",
            "<dtype: 'float32'>\n",
            "tf.Tensor([[12.]], shape=(1, 1), dtype=float32)\n"
          ],
          "name": "stdout"
        }
      ]
    },
    {
      "cell_type": "code",
      "metadata": {
        "id": "Ai4DUtwOtflC"
      },
      "source": [
        "print(\"y data =, {}\".format(y))             #sess = tf.Session()\r\n",
        "                                            #init = tf.global_variables_initializer()\r\n",
        "                                            #sess.run(init)\r\n",
        "                                            #result = sess.run(y)\r\n",
        "                                            #print(result)"
      ],
      "execution_count": null,
      "outputs": []
    }
  ]
}